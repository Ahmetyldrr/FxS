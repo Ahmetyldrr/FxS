{
 "cells": [
  {
   "cell_type": "code",
   "execution_count": 1,
   "id": "104f1cb6-17a5-4f55-a38d-4809ba29000e",
   "metadata": {},
   "outputs": [],
   "source": [
    "import os\n",
    "import django\n",
    "os.environ.setdefault('DJANGO_SETTINGS_MODULE', 'Home.settings')\n",
    "django.setup()\n",
    "os.environ[\"DJANGO_ALLOW_ASYNC_UNSAFE\"] = \"true\""
   ]
  },
  {
   "cell_type": "code",
   "execution_count": 4,
   "id": "cf14f350-3e9b-4689-901a-1ef42d71bf88",
   "metadata": {},
   "outputs": [
    {
     "data": {
      "text/html": [
       "<div>\n",
       "<style scoped>\n",
       "    .dataframe tbody tr th:only-of-type {\n",
       "        vertical-align: middle;\n",
       "    }\n",
       "\n",
       "    .dataframe tbody tr th {\n",
       "        vertical-align: top;\n",
       "    }\n",
       "\n",
       "    .dataframe thead th {\n",
       "        text-align: right;\n",
       "    }\n",
       "</style>\n",
       "<table border=\"1\" class=\"dataframe\">\n",
       "  <thead>\n",
       "    <tr style=\"text-align: right;\">\n",
       "      <th></th>\n",
       "      <th>id</th>\n",
       "      <th>startTimestamp</th>\n",
       "      <th>slug</th>\n",
       "      <th>tournament_id</th>\n",
       "      <th>season_id</th>\n",
       "      <th>roundInfo_round</th>\n",
       "      <th>status_type</th>\n",
       "      <th>homeTeam_id</th>\n",
       "      <th>awayTeam_id</th>\n",
       "      <th>homeScore_current</th>\n",
       "      <th>homeScore_period1</th>\n",
       "      <th>homeScore_period2</th>\n",
       "      <th>homeScore_normaltime</th>\n",
       "      <th>awayScore_current</th>\n",
       "      <th>awayScore_period1</th>\n",
       "      <th>awayScore_period2</th>\n",
       "      <th>awayScore_normaltime</th>\n",
       "    </tr>\n",
       "  </thead>\n",
       "  <tbody>\n",
       "    <tr>\n",
       "      <th>0</th>\n",
       "      <td>11907436</td>\n",
       "      <td>2024-10-21 12:00:00+00:00</td>\n",
       "      <td>djurgardens-if-hammarby-if</td>\n",
       "      <td>40</td>\n",
       "      <td>57284</td>\n",
       "      <td>27</td>\n",
       "      <td>finished</td>\n",
       "      <td>1758</td>\n",
       "      <td>1759</td>\n",
       "      <td>2</td>\n",
       "      <td>2</td>\n",
       "      <td>0</td>\n",
       "      <td>2</td>\n",
       "      <td>0</td>\n",
       "      <td>0</td>\n",
       "      <td>0</td>\n",
       "      <td>0</td>\n",
       "    </tr>\n",
       "    <tr>\n",
       "      <th>1</th>\n",
       "      <td>11907437</td>\n",
       "      <td>2024-10-21 17:10:00+00:00</td>\n",
       "      <td>aik-ifk-goteborg</td>\n",
       "      <td>40</td>\n",
       "      <td>57284</td>\n",
       "      <td>27</td>\n",
       "      <td>finished</td>\n",
       "      <td>1761</td>\n",
       "      <td>1764</td>\n",
       "      <td>1</td>\n",
       "      <td>0</td>\n",
       "      <td>1</td>\n",
       "      <td>1</td>\n",
       "      <td>2</td>\n",
       "      <td>1</td>\n",
       "      <td>1</td>\n",
       "      <td>2</td>\n",
       "    </tr>\n",
       "    <tr>\n",
       "      <th>2</th>\n",
       "      <td>11907438</td>\n",
       "      <td>2024-10-21 17:00:00+00:00</td>\n",
       "      <td>if-brommapojkarna-ifk-norrkoping</td>\n",
       "      <td>40</td>\n",
       "      <td>57284</td>\n",
       "      <td>27</td>\n",
       "      <td>finished</td>\n",
       "      <td>1769</td>\n",
       "      <td>1787</td>\n",
       "      <td>1</td>\n",
       "      <td>1</td>\n",
       "      <td>0</td>\n",
       "      <td>1</td>\n",
       "      <td>1</td>\n",
       "      <td>1</td>\n",
       "      <td>0</td>\n",
       "      <td>1</td>\n",
       "    </tr>\n",
       "    <tr>\n",
       "      <th>3</th>\n",
       "      <td>11907440</td>\n",
       "      <td>2024-10-20 14:30:00+00:00</td>\n",
       "      <td>ifk-varnamo-gais-goteborg</td>\n",
       "      <td>40</td>\n",
       "      <td>57284</td>\n",
       "      <td>27</td>\n",
       "      <td>finished</td>\n",
       "      <td>1786</td>\n",
       "      <td>1842</td>\n",
       "      <td>0</td>\n",
       "      <td>0</td>\n",
       "      <td>0</td>\n",
       "      <td>0</td>\n",
       "      <td>0</td>\n",
       "      <td>0</td>\n",
       "      <td>0</td>\n",
       "      <td>0</td>\n",
       "    </tr>\n",
       "    <tr>\n",
       "      <th>4</th>\n",
       "      <td>11907442</td>\n",
       "      <td>2024-10-20 12:00:00+00:00</td>\n",
       "      <td>kalmar-ff-mjallby-aif</td>\n",
       "      <td>40</td>\n",
       "      <td>57284</td>\n",
       "      <td>27</td>\n",
       "      <td>finished</td>\n",
       "      <td>1891</td>\n",
       "      <td>1783</td>\n",
       "      <td>0</td>\n",
       "      <td>0</td>\n",
       "      <td>0</td>\n",
       "      <td>0</td>\n",
       "      <td>3</td>\n",
       "      <td>2</td>\n",
       "      <td>1</td>\n",
       "      <td>3</td>\n",
       "    </tr>\n",
       "    <tr>\n",
       "      <th>...</th>\n",
       "      <td>...</td>\n",
       "      <td>...</td>\n",
       "      <td>...</td>\n",
       "      <td>...</td>\n",
       "      <td>...</td>\n",
       "      <td>...</td>\n",
       "      <td>...</td>\n",
       "      <td>...</td>\n",
       "      <td>...</td>\n",
       "      <td>...</td>\n",
       "      <td>...</td>\n",
       "      <td>...</td>\n",
       "      <td>...</td>\n",
       "      <td>...</td>\n",
       "      <td>...</td>\n",
       "      <td>...</td>\n",
       "      <td>...</td>\n",
       "    </tr>\n",
       "    <tr>\n",
       "      <th>477</th>\n",
       "      <td>12991468</td>\n",
       "      <td>2024-10-20 20:30:00+00:00</td>\n",
       "      <td>sol-de-america-cerro-porteno</td>\n",
       "      <td>11541</td>\n",
       "      <td>63769</td>\n",
       "      <td>16</td>\n",
       "      <td>finished</td>\n",
       "      <td>36439</td>\n",
       "      <td>5991</td>\n",
       "      <td>0</td>\n",
       "      <td>0</td>\n",
       "      <td>0</td>\n",
       "      <td>0</td>\n",
       "      <td>1</td>\n",
       "      <td>1</td>\n",
       "      <td>0</td>\n",
       "      <td>1</td>\n",
       "    </tr>\n",
       "    <tr>\n",
       "      <th>478</th>\n",
       "      <td>12991470</td>\n",
       "      <td>2024-10-20 23:00:00+00:00</td>\n",
       "      <td>olimpia-libertad</td>\n",
       "      <td>11541</td>\n",
       "      <td>63769</td>\n",
       "      <td>16</td>\n",
       "      <td>finished</td>\n",
       "      <td>5996</td>\n",
       "      <td>5997</td>\n",
       "      <td>0</td>\n",
       "      <td>0</td>\n",
       "      <td>0</td>\n",
       "      <td>0</td>\n",
       "      <td>1</td>\n",
       "      <td>0</td>\n",
       "      <td>1</td>\n",
       "      <td>1</td>\n",
       "    </tr>\n",
       "    <tr>\n",
       "      <th>479</th>\n",
       "      <td>12992167</td>\n",
       "      <td>2024-10-20 17:15:00+00:00</td>\n",
       "      <td>ksc-lokeren-temse-rfc-seraing</td>\n",
       "      <td>9</td>\n",
       "      <td>61412</td>\n",
       "      <td>8</td>\n",
       "      <td>finished</td>\n",
       "      <td>371484</td>\n",
       "      <td>204712</td>\n",
       "      <td>0</td>\n",
       "      <td>0</td>\n",
       "      <td>0</td>\n",
       "      <td>0</td>\n",
       "      <td>1</td>\n",
       "      <td>1</td>\n",
       "      <td>0</td>\n",
       "      <td>1</td>\n",
       "    </tr>\n",
       "    <tr>\n",
       "      <th>480</th>\n",
       "      <td>13008795</td>\n",
       "      <td>2024-10-22 23:30:00+00:00</td>\n",
       "      <td>atlanta-united-cf-montreal</td>\n",
       "      <td>242</td>\n",
       "      <td>57317</td>\n",
       "      <td>0</td>\n",
       "      <td>notstarted</td>\n",
       "      <td>22006</td>\n",
       "      <td>243211</td>\n",
       "      <td>0</td>\n",
       "      <td>0</td>\n",
       "      <td>0</td>\n",
       "      <td>0</td>\n",
       "      <td>0</td>\n",
       "      <td>0</td>\n",
       "      <td>0</td>\n",
       "      <td>0</td>\n",
       "    </tr>\n",
       "    <tr>\n",
       "      <th>481</th>\n",
       "      <td>13016256</td>\n",
       "      <td>2024-10-23 12:00:00+00:00</td>\n",
       "      <td>kapa-kpv</td>\n",
       "      <td>55</td>\n",
       "      <td>58125</td>\n",
       "      <td>29</td>\n",
       "      <td>notstarted</td>\n",
       "      <td>2256</td>\n",
       "      <td>2273</td>\n",
       "      <td>0</td>\n",
       "      <td>0</td>\n",
       "      <td>0</td>\n",
       "      <td>0</td>\n",
       "      <td>0</td>\n",
       "      <td>0</td>\n",
       "      <td>0</td>\n",
       "      <td>0</td>\n",
       "    </tr>\n",
       "  </tbody>\n",
       "</table>\n",
       "<p>482 rows × 17 columns</p>\n",
       "</div>"
      ],
      "text/plain": [
       "           id            startTimestamp                              slug  \\\n",
       "0    11907436 2024-10-21 12:00:00+00:00        djurgardens-if-hammarby-if   \n",
       "1    11907437 2024-10-21 17:10:00+00:00                  aik-ifk-goteborg   \n",
       "2    11907438 2024-10-21 17:00:00+00:00  if-brommapojkarna-ifk-norrkoping   \n",
       "3    11907440 2024-10-20 14:30:00+00:00         ifk-varnamo-gais-goteborg   \n",
       "4    11907442 2024-10-20 12:00:00+00:00             kalmar-ff-mjallby-aif   \n",
       "..        ...                       ...                               ...   \n",
       "477  12991468 2024-10-20 20:30:00+00:00      sol-de-america-cerro-porteno   \n",
       "478  12991470 2024-10-20 23:00:00+00:00                  olimpia-libertad   \n",
       "479  12992167 2024-10-20 17:15:00+00:00     ksc-lokeren-temse-rfc-seraing   \n",
       "480  13008795 2024-10-22 23:30:00+00:00        atlanta-united-cf-montreal   \n",
       "481  13016256 2024-10-23 12:00:00+00:00                          kapa-kpv   \n",
       "\n",
       "     tournament_id  season_id  roundInfo_round status_type  homeTeam_id  \\\n",
       "0               40      57284               27    finished         1758   \n",
       "1               40      57284               27    finished         1761   \n",
       "2               40      57284               27    finished         1769   \n",
       "3               40      57284               27    finished         1786   \n",
       "4               40      57284               27    finished         1891   \n",
       "..             ...        ...              ...         ...          ...   \n",
       "477          11541      63769               16    finished        36439   \n",
       "478          11541      63769               16    finished         5996   \n",
       "479              9      61412                8    finished       371484   \n",
       "480            242      57317                0  notstarted        22006   \n",
       "481             55      58125               29  notstarted         2256   \n",
       "\n",
       "     awayTeam_id  homeScore_current  homeScore_period1  homeScore_period2  \\\n",
       "0           1759                  2                  2                  0   \n",
       "1           1764                  1                  0                  1   \n",
       "2           1787                  1                  1                  0   \n",
       "3           1842                  0                  0                  0   \n",
       "4           1783                  0                  0                  0   \n",
       "..           ...                ...                ...                ...   \n",
       "477         5991                  0                  0                  0   \n",
       "478         5997                  0                  0                  0   \n",
       "479       204712                  0                  0                  0   \n",
       "480       243211                  0                  0                  0   \n",
       "481         2273                  0                  0                  0   \n",
       "\n",
       "     homeScore_normaltime  awayScore_current  awayScore_period1  \\\n",
       "0                       2                  0                  0   \n",
       "1                       1                  2                  1   \n",
       "2                       1                  1                  1   \n",
       "3                       0                  0                  0   \n",
       "4                       0                  3                  2   \n",
       "..                    ...                ...                ...   \n",
       "477                     0                  1                  1   \n",
       "478                     0                  1                  0   \n",
       "479                     0                  1                  1   \n",
       "480                     0                  0                  0   \n",
       "481                     0                  0                  0   \n",
       "\n",
       "     awayScore_period2  awayScore_normaltime  \n",
       "0                    0                     0  \n",
       "1                    1                     2  \n",
       "2                    0                     1  \n",
       "3                    0                     0  \n",
       "4                    1                     3  \n",
       "..                 ...                   ...  \n",
       "477                  0                     1  \n",
       "478                  1                     1  \n",
       "479                  0                     1  \n",
       "480                  0                     0  \n",
       "481                  0                     0  \n",
       "\n",
       "[482 rows x 17 columns]"
      ]
     },
     "execution_count": 4,
     "metadata": {},
     "output_type": "execute_result"
    }
   ],
   "source": [
    "from basemodels.models import Match\n",
    "import pandas as pd\n",
    "\n",
    "data = Match.objects.all().values()\n",
    "data_list = list(data)\n",
    "df = pd.DataFrame(data_list)\n",
    "df"
   ]
  },
  {
   "cell_type": "code",
   "execution_count": 10,
   "id": "fc0b118f-5af0-4ddd-b9c2-00ef2701fab4",
   "metadata": {},
   "outputs": [
    {
     "data": {
      "text/html": [
       "<div>\n",
       "<style scoped>\n",
       "    .dataframe tbody tr th:only-of-type {\n",
       "        vertical-align: middle;\n",
       "    }\n",
       "\n",
       "    .dataframe tbody tr th {\n",
       "        vertical-align: top;\n",
       "    }\n",
       "\n",
       "    .dataframe thead th {\n",
       "        text-align: right;\n",
       "    }\n",
       "</style>\n",
       "<table border=\"1\" class=\"dataframe\">\n",
       "  <thead>\n",
       "    <tr style=\"text-align: right;\">\n",
       "      <th></th>\n",
       "      <th>team_id</th>\n",
       "      <th>W</th>\n",
       "      <th>D</th>\n",
       "      <th>L</th>\n",
       "      <th>GF</th>\n",
       "      <th>GA</th>\n",
       "      <th>Pts</th>\n",
       "      <th>season_id</th>\n",
       "    </tr>\n",
       "  </thead>\n",
       "  <tbody>\n",
       "    <tr>\n",
       "      <th>4</th>\n",
       "      <td>2967</td>\n",
       "      <td>1</td>\n",
       "      <td>0</td>\n",
       "      <td>0</td>\n",
       "      <td>3</td>\n",
       "      <td>1</td>\n",
       "      <td>3</td>\n",
       "      <td>61667</td>\n",
       "    </tr>\n",
       "    <tr>\n",
       "      <th>2</th>\n",
       "      <td>2970</td>\n",
       "      <td>1</td>\n",
       "      <td>0</td>\n",
       "      <td>0</td>\n",
       "      <td>2</td>\n",
       "      <td>0</td>\n",
       "      <td>3</td>\n",
       "      <td>61667</td>\n",
       "    </tr>\n",
       "    <tr>\n",
       "      <th>1</th>\n",
       "      <td>2974</td>\n",
       "      <td>1</td>\n",
       "      <td>0</td>\n",
       "      <td>0</td>\n",
       "      <td>2</td>\n",
       "      <td>1</td>\n",
       "      <td>3</td>\n",
       "      <td>61667</td>\n",
       "    </tr>\n",
       "    <tr>\n",
       "      <th>3</th>\n",
       "      <td>46160</td>\n",
       "      <td>0</td>\n",
       "      <td>1</td>\n",
       "      <td>0</td>\n",
       "      <td>0</td>\n",
       "      <td>0</td>\n",
       "      <td>1</td>\n",
       "      <td>61667</td>\n",
       "    </tr>\n",
       "    <tr>\n",
       "      <th>7</th>\n",
       "      <td>2966</td>\n",
       "      <td>0</td>\n",
       "      <td>1</td>\n",
       "      <td>0</td>\n",
       "      <td>0</td>\n",
       "      <td>0</td>\n",
       "      <td>1</td>\n",
       "      <td>61667</td>\n",
       "    </tr>\n",
       "    <tr>\n",
       "      <th>5</th>\n",
       "      <td>2954</td>\n",
       "      <td>0</td>\n",
       "      <td>0</td>\n",
       "      <td>1</td>\n",
       "      <td>1</td>\n",
       "      <td>2</td>\n",
       "      <td>0</td>\n",
       "      <td>61667</td>\n",
       "    </tr>\n",
       "    <tr>\n",
       "      <th>0</th>\n",
       "      <td>46168</td>\n",
       "      <td>0</td>\n",
       "      <td>0</td>\n",
       "      <td>1</td>\n",
       "      <td>1</td>\n",
       "      <td>3</td>\n",
       "      <td>0</td>\n",
       "      <td>61667</td>\n",
       "    </tr>\n",
       "    <tr>\n",
       "      <th>6</th>\n",
       "      <td>2994</td>\n",
       "      <td>0</td>\n",
       "      <td>0</td>\n",
       "      <td>1</td>\n",
       "      <td>0</td>\n",
       "      <td>2</td>\n",
       "      <td>0</td>\n",
       "      <td>61667</td>\n",
       "    </tr>\n",
       "  </tbody>\n",
       "</table>\n",
       "</div>"
      ],
      "text/plain": [
       "   team_id  W  D  L  GF  GA  Pts  season_id\n",
       "4     2967  1  0  0   3   1    3      61667\n",
       "2     2970  1  0  0   2   0    3      61667\n",
       "1     2974  1  0  0   2   1    3      61667\n",
       "3    46160  0  1  0   0   0    1      61667\n",
       "7     2966  0  1  0   0   0    1      61667\n",
       "5     2954  0  0  1   1   2    0      61667\n",
       "0    46168  0  0  1   1   3    0      61667\n",
       "6     2994  0  0  1   0   2    0      61667"
      ]
     },
     "execution_count": 10,
     "metadata": {},
     "output_type": "execute_result"
    }
   ],
   "source": [
    "import pandas as pd\n",
    "\n",
    "\n",
    "\n",
    "# Puan durumu hesaplamaya başla\n",
    "def puan_durumu(df,  season_id):\n",
    "    # İlgili sezon ve turnuvadaki maçları filtrele\n",
    "    df = df[ (df['season_id'] == season_id) & (df['status_type'] == 'finished')]\n",
    "\n",
    "    # Tüm takımları bul\n",
    "    teams = pd.concat([df['homeTeam_id'], df['awayTeam_id']]).unique()\n",
    "\n",
    "    # Puan durumu için gerekli sütunları oluştur\n",
    "    puan_durumu = pd.DataFrame(teams, columns=['team_id'])\n",
    "    puan_durumu['W'] = 0  # Galibiyet\n",
    "    puan_durumu['D'] = 0  # Beraberlik\n",
    "    puan_durumu['L'] = 0  # Mağlubiyet\n",
    "    puan_durumu['GF'] = 0  # Atılan Goller\n",
    "    puan_durumu['GA'] = 0  # Yenen Goller\n",
    "    puan_durumu['Pts'] = 0  # Puan\n",
    "\n",
    "    # Her maç için takımların performansını güncelle\n",
    "    for _, row in df.iterrows():\n",
    "        home_team = row['homeTeam_id']\n",
    "        away_team = row['awayTeam_id']\n",
    "        home_score = row['homeScore_current']\n",
    "        away_score = row['awayScore_current']\n",
    "\n",
    "        # Atılan ve yenilen golleri güncelle\n",
    "        puan_durumu.loc[puan_durumu['team_id'] == home_team, 'GF'] += home_score\n",
    "        puan_durumu.loc[puan_durumu['team_id'] == home_team, 'GA'] += away_score\n",
    "        puan_durumu.loc[puan_durumu['team_id'] == away_team, 'GF'] += away_score\n",
    "        puan_durumu.loc[puan_durumu['team_id'] == away_team, 'GA'] += home_score\n",
    "\n",
    "        # Maç sonucuna göre puan, galibiyet, beraberlik, mağlubiyet güncelle\n",
    "        if home_score > away_score:\n",
    "            # Ev sahibi kazandı\n",
    "            puan_durumu.loc[puan_durumu['team_id'] == home_team, 'W'] += 1\n",
    "            puan_durumu.loc[puan_durumu['team_id'] == home_team, 'Pts'] += 3\n",
    "            puan_durumu.loc[puan_durumu['team_id'] == away_team, 'L'] += 1\n",
    "        elif home_score < away_score:\n",
    "            # Deplasman kazandı\n",
    "            puan_durumu.loc[puan_durumu['team_id'] == away_team, 'W'] += 1\n",
    "            puan_durumu.loc[puan_durumu['team_id'] == away_team, 'Pts'] += 3\n",
    "            puan_durumu.loc[puan_durumu['team_id'] == home_team, 'L'] += 1\n",
    "        else:\n",
    "            # Beraberlik\n",
    "            puan_durumu.loc[puan_durumu['team_id'] == home_team, 'D'] += 1\n",
    "            puan_durumu.loc[puan_durumu['team_id'] == home_team, 'Pts'] += 1\n",
    "            puan_durumu.loc[puan_durumu['team_id'] == away_team, 'D'] += 1\n",
    "            puan_durumu.loc[puan_durumu['team_id'] == away_team, 'Pts'] += 1\n",
    "\n",
    "    # Puan durumunu puanlara göre sıralama\n",
    "    puan_durumu = puan_durumu.sort_values(by=['Pts', 'GF', 'GA'], ascending=[False, False, True])\n",
    "    puan_durumu[\"season_id\"]=season_id\n",
    "    \n",
    "    return puan_durumu\n",
    "\n",
    "# Sezon ve turnuva için puan durumu\n",
    "puan_tablosu = puan_durumu(df, season_id=\t61667)\n",
    "\n",
    "puan_tablosu \n"
   ]
  },
  {
   "cell_type": "code",
   "execution_count": 2,
   "id": "9dbe4d6b-7212-46a2-af4a-0e241caeb391",
   "metadata": {},
   "outputs": [
    {
     "data": {
      "text/html": [
       "<div>\n",
       "<style scoped>\n",
       "    .dataframe tbody tr th:only-of-type {\n",
       "        vertical-align: middle;\n",
       "    }\n",
       "\n",
       "    .dataframe tbody tr th {\n",
       "        vertical-align: top;\n",
       "    }\n",
       "\n",
       "    .dataframe thead th {\n",
       "        text-align: right;\n",
       "    }\n",
       "</style>\n",
       "<table border=\"1\" class=\"dataframe\">\n",
       "  <thead>\n",
       "    <tr style=\"text-align: right;\">\n",
       "      <th></th>\n",
       "      <th>customId</th>\n",
       "      <th>winnerCode</th>\n",
       "      <th>hasGlobalHighlights</th>\n",
       "      <th>hasEventPlayerStatistics</th>\n",
       "      <th>hasEventPlayerHeatMap</th>\n",
       "      <th>detailId</th>\n",
       "      <th>crowdsourcingDataDisplayEnabled</th>\n",
       "      <th>id</th>\n",
       "      <th>startTimestamp</th>\n",
       "      <th>slug</th>\n",
       "      <th>...</th>\n",
       "      <th>homeTeam.gender</th>\n",
       "      <th>awayTeam.gender</th>\n",
       "      <th>homeScore.aggregated</th>\n",
       "      <th>awayScore.aggregated</th>\n",
       "      <th>homeScore.penalties</th>\n",
       "      <th>awayScore.penalties</th>\n",
       "      <th>tournament.uniqueTournament.primaryColorHex</th>\n",
       "      <th>tournament.uniqueTournament.secondaryColorHex</th>\n",
       "      <th>coverage</th>\n",
       "      <th>tarih</th>\n",
       "    </tr>\n",
       "  </thead>\n",
       "  <tbody>\n",
       "    <tr>\n",
       "      <th>0</th>\n",
       "      <td>dsr</td>\n",
       "      <td>2.0</td>\n",
       "      <td>True</td>\n",
       "      <td>True</td>\n",
       "      <td>True</td>\n",
       "      <td>1.0</td>\n",
       "      <td>False</td>\n",
       "      <td>12437039</td>\n",
       "      <td>1729429200</td>\n",
       "      <td>manchester-city-wolverhampton</td>\n",
       "      <td>...</td>\n",
       "      <td>NaN</td>\n",
       "      <td>NaN</td>\n",
       "      <td>NaN</td>\n",
       "      <td>NaN</td>\n",
       "      <td>NaN</td>\n",
       "      <td>NaN</td>\n",
       "      <td>NaN</td>\n",
       "      <td>NaN</td>\n",
       "      <td>NaN</td>\n",
       "      <td>2024-10-21</td>\n",
       "    </tr>\n",
       "    <tr>\n",
       "      <th>1</th>\n",
       "      <td>NsU</td>\n",
       "      <td>1.0</td>\n",
       "      <td>True</td>\n",
       "      <td>True</td>\n",
       "      <td>True</td>\n",
       "      <td>1.0</td>\n",
       "      <td>False</td>\n",
       "      <td>12437032</td>\n",
       "      <td>1729438200</td>\n",
       "      <td>liverpool-chelsea</td>\n",
       "      <td>...</td>\n",
       "      <td>NaN</td>\n",
       "      <td>NaN</td>\n",
       "      <td>NaN</td>\n",
       "      <td>NaN</td>\n",
       "      <td>NaN</td>\n",
       "      <td>NaN</td>\n",
       "      <td>NaN</td>\n",
       "      <td>NaN</td>\n",
       "      <td>NaN</td>\n",
       "      <td>2024-10-21</td>\n",
       "    </tr>\n",
       "    <tr>\n",
       "      <th>2</th>\n",
       "      <td>hso</td>\n",
       "      <td>1.0</td>\n",
       "      <td>True</td>\n",
       "      <td>True</td>\n",
       "      <td>True</td>\n",
       "      <td>1.0</td>\n",
       "      <td>False</td>\n",
       "      <td>12437036</td>\n",
       "      <td>1729537200</td>\n",
       "      <td>nottingham-forest-crystal-palace</td>\n",
       "      <td>...</td>\n",
       "      <td>NaN</td>\n",
       "      <td>NaN</td>\n",
       "      <td>NaN</td>\n",
       "      <td>NaN</td>\n",
       "      <td>NaN</td>\n",
       "      <td>NaN</td>\n",
       "      <td>NaN</td>\n",
       "      <td>NaN</td>\n",
       "      <td>NaN</td>\n",
       "      <td>2024-10-21</td>\n",
       "    </tr>\n",
       "    <tr>\n",
       "      <th>3</th>\n",
       "      <td>tgbsBgb</td>\n",
       "      <td>1.0</td>\n",
       "      <td>True</td>\n",
       "      <td>True</td>\n",
       "      <td>True</td>\n",
       "      <td>1.0</td>\n",
       "      <td>False</td>\n",
       "      <td>12437847</td>\n",
       "      <td>1729425600</td>\n",
       "      <td>mallorca-rayo-vallecano</td>\n",
       "      <td>...</td>\n",
       "      <td>NaN</td>\n",
       "      <td>NaN</td>\n",
       "      <td>NaN</td>\n",
       "      <td>NaN</td>\n",
       "      <td>NaN</td>\n",
       "      <td>NaN</td>\n",
       "      <td>NaN</td>\n",
       "      <td>NaN</td>\n",
       "      <td>NaN</td>\n",
       "      <td>2024-10-21</td>\n",
       "    </tr>\n",
       "    <tr>\n",
       "      <th>4</th>\n",
       "      <td>LgbsVgb</td>\n",
       "      <td>1.0</td>\n",
       "      <td>True</td>\n",
       "      <td>True</td>\n",
       "      <td>True</td>\n",
       "      <td>1.0</td>\n",
       "      <td>False</td>\n",
       "      <td>12437835</td>\n",
       "      <td>1729433700</td>\n",
       "      <td>leganes-atletico-madrid</td>\n",
       "      <td>...</td>\n",
       "      <td>NaN</td>\n",
       "      <td>NaN</td>\n",
       "      <td>NaN</td>\n",
       "      <td>NaN</td>\n",
       "      <td>NaN</td>\n",
       "      <td>NaN</td>\n",
       "      <td>NaN</td>\n",
       "      <td>NaN</td>\n",
       "      <td>NaN</td>\n",
       "      <td>2024-10-21</td>\n",
       "    </tr>\n",
       "    <tr>\n",
       "      <th>...</th>\n",
       "      <td>...</td>\n",
       "      <td>...</td>\n",
       "      <td>...</td>\n",
       "      <td>...</td>\n",
       "      <td>...</td>\n",
       "      <td>...</td>\n",
       "      <td>...</td>\n",
       "      <td>...</td>\n",
       "      <td>...</td>\n",
       "      <td>...</td>\n",
       "      <td>...</td>\n",
       "      <td>...</td>\n",
       "      <td>...</td>\n",
       "      <td>...</td>\n",
       "      <td>...</td>\n",
       "      <td>...</td>\n",
       "      <td>...</td>\n",
       "      <td>...</td>\n",
       "      <td>...</td>\n",
       "      <td>...</td>\n",
       "      <td>...</td>\n",
       "    </tr>\n",
       "    <tr>\n",
       "      <th>549</th>\n",
       "      <td>fYbsmYb</td>\n",
       "      <td>NaN</td>\n",
       "      <td>False</td>\n",
       "      <td>NaN</td>\n",
       "      <td>NaN</td>\n",
       "      <td>NaN</td>\n",
       "      <td>False</td>\n",
       "      <td>12872190</td>\n",
       "      <td>1729622700</td>\n",
       "      <td>connahs-quay-nomads-aberystwyth-town</td>\n",
       "      <td>...</td>\n",
       "      <td>NaN</td>\n",
       "      <td>NaN</td>\n",
       "      <td>NaN</td>\n",
       "      <td>NaN</td>\n",
       "      <td>NaN</td>\n",
       "      <td>NaN</td>\n",
       "      <td>NaN</td>\n",
       "      <td>NaN</td>\n",
       "      <td>NaN</td>\n",
       "      <td>2024-10-22</td>\n",
       "    </tr>\n",
       "    <tr>\n",
       "      <th>550</th>\n",
       "      <td>lQrsjlLb</td>\n",
       "      <td>NaN</td>\n",
       "      <td>False</td>\n",
       "      <td>NaN</td>\n",
       "      <td>NaN</td>\n",
       "      <td>NaN</td>\n",
       "      <td>False</td>\n",
       "      <td>12464047</td>\n",
       "      <td>1729638000</td>\n",
       "      <td>ecuador-u17-new-zealand-u17</td>\n",
       "      <td>...</td>\n",
       "      <td>NaN</td>\n",
       "      <td>NaN</td>\n",
       "      <td>NaN</td>\n",
       "      <td>NaN</td>\n",
       "      <td>NaN</td>\n",
       "      <td>NaN</td>\n",
       "      <td>NaN</td>\n",
       "      <td>NaN</td>\n",
       "      <td>NaN</td>\n",
       "      <td>2024-10-22</td>\n",
       "    </tr>\n",
       "    <tr>\n",
       "      <th>551</th>\n",
       "      <td>fQrsXlpd</td>\n",
       "      <td>NaN</td>\n",
       "      <td>False</td>\n",
       "      <td>NaN</td>\n",
       "      <td>NaN</td>\n",
       "      <td>NaN</td>\n",
       "      <td>False</td>\n",
       "      <td>12464084</td>\n",
       "      <td>1729638000</td>\n",
       "      <td>dominican-republic-u17-nigeria-u17</td>\n",
       "      <td>...</td>\n",
       "      <td>NaN</td>\n",
       "      <td>NaN</td>\n",
       "      <td>NaN</td>\n",
       "      <td>NaN</td>\n",
       "      <td>NaN</td>\n",
       "      <td>NaN</td>\n",
       "      <td>NaN</td>\n",
       "      <td>NaN</td>\n",
       "      <td>NaN</td>\n",
       "      <td>2024-10-22</td>\n",
       "    </tr>\n",
       "    <tr>\n",
       "      <th>552</th>\n",
       "      <td>wlpskEu</td>\n",
       "      <td>NaN</td>\n",
       "      <td>False</td>\n",
       "      <td>NaN</td>\n",
       "      <td>NaN</td>\n",
       "      <td>NaN</td>\n",
       "      <td>False</td>\n",
       "      <td>12464043</td>\n",
       "      <td>1729627200</td>\n",
       "      <td>colombia-u17-spain-u17</td>\n",
       "      <td>...</td>\n",
       "      <td>NaN</td>\n",
       "      <td>NaN</td>\n",
       "      <td>NaN</td>\n",
       "      <td>NaN</td>\n",
       "      <td>NaN</td>\n",
       "      <td>NaN</td>\n",
       "      <td>NaN</td>\n",
       "      <td>NaN</td>\n",
       "      <td>NaN</td>\n",
       "      <td>2024-10-22</td>\n",
       "    </tr>\n",
       "    <tr>\n",
       "      <th>553</th>\n",
       "      <td>oNosxEu</td>\n",
       "      <td>NaN</td>\n",
       "      <td>False</td>\n",
       "      <td>NaN</td>\n",
       "      <td>NaN</td>\n",
       "      <td>NaN</td>\n",
       "      <td>False</td>\n",
       "      <td>12464038</td>\n",
       "      <td>1729627200</td>\n",
       "      <td>usa-u17-south-korea-u17</td>\n",
       "      <td>...</td>\n",
       "      <td>NaN</td>\n",
       "      <td>NaN</td>\n",
       "      <td>NaN</td>\n",
       "      <td>NaN</td>\n",
       "      <td>NaN</td>\n",
       "      <td>NaN</td>\n",
       "      <td>NaN</td>\n",
       "      <td>NaN</td>\n",
       "      <td>NaN</td>\n",
       "      <td>2024-10-22</td>\n",
       "    </tr>\n",
       "  </tbody>\n",
       "</table>\n",
       "<p>554 rows × 143 columns</p>\n",
       "</div>"
      ],
      "text/plain": [
       "     customId  winnerCode  hasGlobalHighlights hasEventPlayerStatistics  \\\n",
       "0         dsr         2.0                 True                     True   \n",
       "1         NsU         1.0                 True                     True   \n",
       "2         hso         1.0                 True                     True   \n",
       "3     tgbsBgb         1.0                 True                     True   \n",
       "4     LgbsVgb         1.0                 True                     True   \n",
       "..        ...         ...                  ...                      ...   \n",
       "549   fYbsmYb         NaN                False                      NaN   \n",
       "550  lQrsjlLb         NaN                False                      NaN   \n",
       "551  fQrsXlpd         NaN                False                      NaN   \n",
       "552   wlpskEu         NaN                False                      NaN   \n",
       "553   oNosxEu         NaN                False                      NaN   \n",
       "\n",
       "    hasEventPlayerHeatMap  detailId  crowdsourcingDataDisplayEnabled  \\\n",
       "0                    True       1.0                            False   \n",
       "1                    True       1.0                            False   \n",
       "2                    True       1.0                            False   \n",
       "3                    True       1.0                            False   \n",
       "4                    True       1.0                            False   \n",
       "..                    ...       ...                              ...   \n",
       "549                   NaN       NaN                            False   \n",
       "550                   NaN       NaN                            False   \n",
       "551                   NaN       NaN                            False   \n",
       "552                   NaN       NaN                            False   \n",
       "553                   NaN       NaN                            False   \n",
       "\n",
       "           id  startTimestamp                                  slug  ...  \\\n",
       "0    12437039      1729429200         manchester-city-wolverhampton  ...   \n",
       "1    12437032      1729438200                     liverpool-chelsea  ...   \n",
       "2    12437036      1729537200      nottingham-forest-crystal-palace  ...   \n",
       "3    12437847      1729425600               mallorca-rayo-vallecano  ...   \n",
       "4    12437835      1729433700               leganes-atletico-madrid  ...   \n",
       "..        ...             ...                                   ...  ...   \n",
       "549  12872190      1729622700  connahs-quay-nomads-aberystwyth-town  ...   \n",
       "550  12464047      1729638000           ecuador-u17-new-zealand-u17  ...   \n",
       "551  12464084      1729638000    dominican-republic-u17-nigeria-u17  ...   \n",
       "552  12464043      1729627200                colombia-u17-spain-u17  ...   \n",
       "553  12464038      1729627200               usa-u17-south-korea-u17  ...   \n",
       "\n",
       "     homeTeam.gender  awayTeam.gender  homeScore.aggregated  \\\n",
       "0                NaN              NaN                   NaN   \n",
       "1                NaN              NaN                   NaN   \n",
       "2                NaN              NaN                   NaN   \n",
       "3                NaN              NaN                   NaN   \n",
       "4                NaN              NaN                   NaN   \n",
       "..               ...              ...                   ...   \n",
       "549              NaN              NaN                   NaN   \n",
       "550              NaN              NaN                   NaN   \n",
       "551              NaN              NaN                   NaN   \n",
       "552              NaN              NaN                   NaN   \n",
       "553              NaN              NaN                   NaN   \n",
       "\n",
       "    awayScore.aggregated homeScore.penalties awayScore.penalties  \\\n",
       "0                    NaN                 NaN                 NaN   \n",
       "1                    NaN                 NaN                 NaN   \n",
       "2                    NaN                 NaN                 NaN   \n",
       "3                    NaN                 NaN                 NaN   \n",
       "4                    NaN                 NaN                 NaN   \n",
       "..                   ...                 ...                 ...   \n",
       "549                  NaN                 NaN                 NaN   \n",
       "550                  NaN                 NaN                 NaN   \n",
       "551                  NaN                 NaN                 NaN   \n",
       "552                  NaN                 NaN                 NaN   \n",
       "553                  NaN                 NaN                 NaN   \n",
       "\n",
       "    tournament.uniqueTournament.primaryColorHex  \\\n",
       "0                                           NaN   \n",
       "1                                           NaN   \n",
       "2                                           NaN   \n",
       "3                                           NaN   \n",
       "4                                           NaN   \n",
       "..                                          ...   \n",
       "549                                         NaN   \n",
       "550                                         NaN   \n",
       "551                                         NaN   \n",
       "552                                         NaN   \n",
       "553                                         NaN   \n",
       "\n",
       "    tournament.uniqueTournament.secondaryColorHex coverage       tarih  \n",
       "0                                             NaN      NaN  2024-10-21  \n",
       "1                                             NaN      NaN  2024-10-21  \n",
       "2                                             NaN      NaN  2024-10-21  \n",
       "3                                             NaN      NaN  2024-10-21  \n",
       "4                                             NaN      NaN  2024-10-21  \n",
       "..                                            ...      ...         ...  \n",
       "549                                           NaN      NaN  2024-10-22  \n",
       "550                                           NaN      NaN  2024-10-22  \n",
       "551                                           NaN      NaN  2024-10-22  \n",
       "552                                           NaN      NaN  2024-10-22  \n",
       "553                                           NaN      NaN  2024-10-22  \n",
       "\n",
       "[554 rows x 143 columns]"
      ]
     },
     "execution_count": 2,
     "metadata": {},
     "output_type": "execute_result"
    }
   ],
   "source": [
    "#verileri oku\n",
    "from basemodels.models import FikstureModelData\n",
    "import pandas as pd\n",
    "\n",
    "data = FikstureModelData.objects.all().values()\n",
    "data_list = list(data)\n",
    "df = pd.DataFrame(data_list)\n",
    "df_exploded = df.explode('data')\n",
    "expanded_data = pd.json_normalize(df_exploded['data'])\n",
    "expanded_data['tarih'] = list(df_exploded['tarih'])\n",
    "expanded_data"
   ]
  },
  {
   "cell_type": "code",
   "execution_count": 5,
   "id": "8331bf68-811e-48e3-8173-57ed8e30bd4a",
   "metadata": {},
   "outputs": [],
   "source": [
    "expanded_data.to_excel(\"FullData.xlsx\")"
   ]
  },
  {
   "cell_type": "code",
   "execution_count": 4,
   "id": "8e7cf38d-db5d-4b13-95bb-ea7b7ee86f9d",
   "metadata": {},
   "outputs": [
    {
     "data": {
      "text/plain": [
       "['customId',\n",
       " 'winnerCode',\n",
       " 'hasGlobalHighlights',\n",
       " 'hasEventPlayerStatistics',\n",
       " 'hasEventPlayerHeatMap',\n",
       " 'detailId',\n",
       " 'crowdsourcingDataDisplayEnabled',\n",
       " 'id',\n",
       " 'startTimestamp',\n",
       " 'slug',\n",
       " 'finalResultOnly',\n",
       " 'feedLocked',\n",
       " 'isEditor',\n",
       " 'tournament.name',\n",
       " 'tournament.slug',\n",
       " 'tournament.category.name',\n",
       " 'tournament.category.slug',\n",
       " 'tournament.category.sport.name',\n",
       " 'tournament.category.sport.slug',\n",
       " 'tournament.category.sport.id',\n",
       " 'tournament.category.id',\n",
       " 'tournament.category.country.alpha2',\n",
       " 'tournament.category.country.alpha3',\n",
       " 'tournament.category.country.name',\n",
       " 'tournament.category.country.slug',\n",
       " 'tournament.category.flag',\n",
       " 'tournament.category.alpha2',\n",
       " 'tournament.uniqueTournament.name',\n",
       " 'tournament.uniqueTournament.slug',\n",
       " 'tournament.uniqueTournament.category.name',\n",
       " 'tournament.uniqueTournament.category.slug',\n",
       " 'tournament.uniqueTournament.category.sport.name',\n",
       " 'tournament.uniqueTournament.category.sport.slug',\n",
       " 'tournament.uniqueTournament.category.sport.id',\n",
       " 'tournament.uniqueTournament.category.id',\n",
       " 'tournament.uniqueTournament.category.country.alpha2',\n",
       " 'tournament.uniqueTournament.category.country.alpha3',\n",
       " 'tournament.uniqueTournament.category.country.name',\n",
       " 'tournament.uniqueTournament.category.country.slug',\n",
       " 'tournament.uniqueTournament.category.flag',\n",
       " 'tournament.uniqueTournament.category.alpha2',\n",
       " 'tournament.uniqueTournament.userCount',\n",
       " 'tournament.uniqueTournament.id',\n",
       " 'tournament.uniqueTournament.hasEventPlayerStatistics',\n",
       " 'tournament.uniqueTournament.displayInverseHomeAwayTeams',\n",
       " 'tournament.priority',\n",
       " 'tournament.id',\n",
       " 'season.name',\n",
       " 'season.year',\n",
       " 'season.editor',\n",
       " 'season.id',\n",
       " 'roundInfo.round',\n",
       " 'status.code',\n",
       " 'status.description',\n",
       " 'status.type',\n",
       " 'homeTeam.name',\n",
       " 'homeTeam.slug',\n",
       " 'homeTeam.shortName',\n",
       " 'homeTeam.sport.name',\n",
       " 'homeTeam.sport.slug',\n",
       " 'homeTeam.sport.id',\n",
       " 'homeTeam.userCount',\n",
       " 'homeTeam.nameCode',\n",
       " 'homeTeam.disabled',\n",
       " 'homeTeam.national',\n",
       " 'homeTeam.type',\n",
       " 'homeTeam.id',\n",
       " 'homeTeam.country.alpha2',\n",
       " 'homeTeam.country.alpha3',\n",
       " 'homeTeam.country.name',\n",
       " 'homeTeam.country.slug',\n",
       " 'homeTeam.subTeams',\n",
       " 'homeTeam.teamColors.primary',\n",
       " 'homeTeam.teamColors.secondary',\n",
       " 'homeTeam.teamColors.text',\n",
       " 'homeTeam.fieldTranslations.nameTranslation.ar',\n",
       " 'homeTeam.fieldTranslations.nameTranslation.ru',\n",
       " 'awayTeam.name',\n",
       " 'awayTeam.slug',\n",
       " 'awayTeam.shortName',\n",
       " 'awayTeam.sport.name',\n",
       " 'awayTeam.sport.slug',\n",
       " 'awayTeam.sport.id',\n",
       " 'awayTeam.userCount',\n",
       " 'awayTeam.nameCode',\n",
       " 'awayTeam.disabled',\n",
       " 'awayTeam.national',\n",
       " 'awayTeam.type',\n",
       " 'awayTeam.id',\n",
       " 'awayTeam.country.alpha2',\n",
       " 'awayTeam.country.alpha3',\n",
       " 'awayTeam.country.name',\n",
       " 'awayTeam.country.slug',\n",
       " 'awayTeam.subTeams',\n",
       " 'awayTeam.teamColors.primary',\n",
       " 'awayTeam.teamColors.secondary',\n",
       " 'awayTeam.teamColors.text',\n",
       " 'awayTeam.fieldTranslations.nameTranslation.ar',\n",
       " 'awayTeam.fieldTranslations.nameTranslation.ru',\n",
       " 'homeScore.current',\n",
       " 'homeScore.display',\n",
       " 'homeScore.period1',\n",
       " 'homeScore.period2',\n",
       " 'homeScore.normaltime',\n",
       " 'awayScore.current',\n",
       " 'awayScore.display',\n",
       " 'awayScore.period1',\n",
       " 'awayScore.period2',\n",
       " 'awayScore.normaltime',\n",
       " 'time.injuryTime1',\n",
       " 'time.injuryTime2',\n",
       " 'time.currentPeriodStartTimestamp',\n",
       " 'changes.changes',\n",
       " 'changes.changeTimestamp',\n",
       " 'homeRedCards',\n",
       " 'awayRedCards',\n",
       " 'tournament.uniqueTournament.hasPerformanceGraphFeature',\n",
       " 'season.seasonCoverageInfo.editorCoverageLevel',\n",
       " 'lastPeriod',\n",
       " 'time.initial',\n",
       " 'time.max',\n",
       " 'time.extra',\n",
       " 'statusTime.prefix',\n",
       " 'statusTime.initial',\n",
       " 'statusTime.max',\n",
       " 'statusTime.timestamp',\n",
       " 'statusTime.extra',\n",
       " 'aggregatedWinnerCode',\n",
       " 'previousLegEventId',\n",
       " 'tournament.isGroup',\n",
       " 'tournament.isLive',\n",
       " 'roundInfo.name',\n",
       " 'roundInfo.cupRoundType',\n",
       " 'homeTeam.gender',\n",
       " 'awayTeam.gender',\n",
       " 'homeScore.aggregated',\n",
       " 'awayScore.aggregated',\n",
       " 'homeScore.penalties',\n",
       " 'awayScore.penalties',\n",
       " 'tournament.uniqueTournament.primaryColorHex',\n",
       " 'tournament.uniqueTournament.secondaryColorHex',\n",
       " 'coverage',\n",
       " 'tarih']"
      ]
     },
     "execution_count": 4,
     "metadata": {},
     "output_type": "execute_result"
    }
   ],
   "source": [
    "list(expanded_data.columns)"
   ]
  },
  {
   "cell_type": "code",
   "execution_count": 8,
   "id": "9b9d8f7a-6a43-40e0-b6e9-da9b4239b654",
   "metadata": {},
   "outputs": [
    {
     "data": {
      "text/html": [
       "<div>\n",
       "<style scoped>\n",
       "    .dataframe tbody tr th:only-of-type {\n",
       "        vertical-align: middle;\n",
       "    }\n",
       "\n",
       "    .dataframe tbody tr th {\n",
       "        vertical-align: top;\n",
       "    }\n",
       "\n",
       "    .dataframe thead th {\n",
       "        text-align: right;\n",
       "    }\n",
       "</style>\n",
       "<table border=\"1\" class=\"dataframe\">\n",
       "  <thead>\n",
       "    <tr style=\"text-align: right;\">\n",
       "      <th></th>\n",
       "      <th>id</th>\n",
       "      <th>date</th>\n",
       "      <th>slug</th>\n",
       "      <th>tournament_uniqueTournament_id</th>\n",
       "      <th>season_id</th>\n",
       "      <th>roundInfo_round</th>\n",
       "      <th>status_type</th>\n",
       "      <th>homeTeam_id</th>\n",
       "      <th>awayTeam_id</th>\n",
       "      <th>homeScore_current</th>\n",
       "      <th>homeScore_display</th>\n",
       "      <th>homeScore_period1</th>\n",
       "      <th>homeScore_period2</th>\n",
       "      <th>homeScore_normaltime</th>\n",
       "      <th>awayScore_current</th>\n",
       "      <th>awayScore_display</th>\n",
       "      <th>awayScore_period1</th>\n",
       "      <th>awayScore_period2</th>\n",
       "      <th>awayScore_normaltime</th>\n",
       "    </tr>\n",
       "  </thead>\n",
       "  <tbody>\n",
       "    <tr>\n",
       "      <th>0</th>\n",
       "      <td>12437039</td>\n",
       "      <td>1729429200</td>\n",
       "      <td>manchester-city-wolverhampton</td>\n",
       "      <td>17</td>\n",
       "      <td>61627</td>\n",
       "      <td>8.0</td>\n",
       "      <td>finished</td>\n",
       "      <td>3</td>\n",
       "      <td>17</td>\n",
       "      <td>1.0</td>\n",
       "      <td>1.0</td>\n",
       "      <td>1.0</td>\n",
       "      <td>0.0</td>\n",
       "      <td>1.0</td>\n",
       "      <td>2.0</td>\n",
       "      <td>2.0</td>\n",
       "      <td>1.0</td>\n",
       "      <td>1.0</td>\n",
       "      <td>2.0</td>\n",
       "    </tr>\n",
       "    <tr>\n",
       "      <th>1</th>\n",
       "      <td>12437032</td>\n",
       "      <td>1729438200</td>\n",
       "      <td>liverpool-chelsea</td>\n",
       "      <td>17</td>\n",
       "      <td>61627</td>\n",
       "      <td>8.0</td>\n",
       "      <td>finished</td>\n",
       "      <td>44</td>\n",
       "      <td>38</td>\n",
       "      <td>2.0</td>\n",
       "      <td>2.0</td>\n",
       "      <td>1.0</td>\n",
       "      <td>1.0</td>\n",
       "      <td>2.0</td>\n",
       "      <td>1.0</td>\n",
       "      <td>1.0</td>\n",
       "      <td>0.0</td>\n",
       "      <td>1.0</td>\n",
       "      <td>1.0</td>\n",
       "    </tr>\n",
       "    <tr>\n",
       "      <th>2</th>\n",
       "      <td>12437036</td>\n",
       "      <td>1729537200</td>\n",
       "      <td>nottingham-forest-crystal-palace</td>\n",
       "      <td>17</td>\n",
       "      <td>61627</td>\n",
       "      <td>8.0</td>\n",
       "      <td>finished</td>\n",
       "      <td>14</td>\n",
       "      <td>7</td>\n",
       "      <td>1.0</td>\n",
       "      <td>1.0</td>\n",
       "      <td>0.0</td>\n",
       "      <td>1.0</td>\n",
       "      <td>1.0</td>\n",
       "      <td>0.0</td>\n",
       "      <td>0.0</td>\n",
       "      <td>0.0</td>\n",
       "      <td>0.0</td>\n",
       "      <td>0.0</td>\n",
       "    </tr>\n",
       "    <tr>\n",
       "      <th>3</th>\n",
       "      <td>12437847</td>\n",
       "      <td>1729425600</td>\n",
       "      <td>mallorca-rayo-vallecano</td>\n",
       "      <td>8</td>\n",
       "      <td>61643</td>\n",
       "      <td>10.0</td>\n",
       "      <td>finished</td>\n",
       "      <td>2826</td>\n",
       "      <td>2818</td>\n",
       "      <td>1.0</td>\n",
       "      <td>1.0</td>\n",
       "      <td>0.0</td>\n",
       "      <td>1.0</td>\n",
       "      <td>1.0</td>\n",
       "      <td>0.0</td>\n",
       "      <td>0.0</td>\n",
       "      <td>0.0</td>\n",
       "      <td>0.0</td>\n",
       "      <td>0.0</td>\n",
       "    </tr>\n",
       "    <tr>\n",
       "      <th>4</th>\n",
       "      <td>12437835</td>\n",
       "      <td>1729433700</td>\n",
       "      <td>leganes-atletico-madrid</td>\n",
       "      <td>8</td>\n",
       "      <td>61643</td>\n",
       "      <td>10.0</td>\n",
       "      <td>finished</td>\n",
       "      <td>2836</td>\n",
       "      <td>2845</td>\n",
       "      <td>3.0</td>\n",
       "      <td>3.0</td>\n",
       "      <td>0.0</td>\n",
       "      <td>3.0</td>\n",
       "      <td>3.0</td>\n",
       "      <td>1.0</td>\n",
       "      <td>1.0</td>\n",
       "      <td>1.0</td>\n",
       "      <td>0.0</td>\n",
       "      <td>1.0</td>\n",
       "    </tr>\n",
       "    <tr>\n",
       "      <th>...</th>\n",
       "      <td>...</td>\n",
       "      <td>...</td>\n",
       "      <td>...</td>\n",
       "      <td>...</td>\n",
       "      <td>...</td>\n",
       "      <td>...</td>\n",
       "      <td>...</td>\n",
       "      <td>...</td>\n",
       "      <td>...</td>\n",
       "      <td>...</td>\n",
       "      <td>...</td>\n",
       "      <td>...</td>\n",
       "      <td>...</td>\n",
       "      <td>...</td>\n",
       "      <td>...</td>\n",
       "      <td>...</td>\n",
       "      <td>...</td>\n",
       "      <td>...</td>\n",
       "      <td>...</td>\n",
       "    </tr>\n",
       "    <tr>\n",
       "      <th>549</th>\n",
       "      <td>12872190</td>\n",
       "      <td>1729622700</td>\n",
       "      <td>connahs-quay-nomads-aberystwyth-town</td>\n",
       "      <td>367</td>\n",
       "      <td>61686</td>\n",
       "      <td>27.0</td>\n",
       "      <td>notstarted</td>\n",
       "      <td>4912</td>\n",
       "      <td>4905</td>\n",
       "      <td>NaN</td>\n",
       "      <td>NaN</td>\n",
       "      <td>NaN</td>\n",
       "      <td>NaN</td>\n",
       "      <td>NaN</td>\n",
       "      <td>NaN</td>\n",
       "      <td>NaN</td>\n",
       "      <td>NaN</td>\n",
       "      <td>NaN</td>\n",
       "      <td>NaN</td>\n",
       "    </tr>\n",
       "    <tr>\n",
       "      <th>550</th>\n",
       "      <td>12464047</td>\n",
       "      <td>1729638000</td>\n",
       "      <td>ecuador-u17-new-zealand-u17</td>\n",
       "      <td>827</td>\n",
       "      <td>61934</td>\n",
       "      <td>3.0</td>\n",
       "      <td>notstarted</td>\n",
       "      <td>215559</td>\n",
       "      <td>44561</td>\n",
       "      <td>NaN</td>\n",
       "      <td>NaN</td>\n",
       "      <td>NaN</td>\n",
       "      <td>NaN</td>\n",
       "      <td>NaN</td>\n",
       "      <td>NaN</td>\n",
       "      <td>NaN</td>\n",
       "      <td>NaN</td>\n",
       "      <td>NaN</td>\n",
       "      <td>NaN</td>\n",
       "    </tr>\n",
       "    <tr>\n",
       "      <th>551</th>\n",
       "      <td>12464084</td>\n",
       "      <td>1729638000</td>\n",
       "      <td>dominican-republic-u17-nigeria-u17</td>\n",
       "      <td>827</td>\n",
       "      <td>61934</td>\n",
       "      <td>3.0</td>\n",
       "      <td>notstarted</td>\n",
       "      <td>44555</td>\n",
       "      <td>413097</td>\n",
       "      <td>NaN</td>\n",
       "      <td>NaN</td>\n",
       "      <td>NaN</td>\n",
       "      <td>NaN</td>\n",
       "      <td>NaN</td>\n",
       "      <td>NaN</td>\n",
       "      <td>NaN</td>\n",
       "      <td>NaN</td>\n",
       "      <td>NaN</td>\n",
       "      <td>NaN</td>\n",
       "    </tr>\n",
       "    <tr>\n",
       "      <th>552</th>\n",
       "      <td>12464043</td>\n",
       "      <td>1729627200</td>\n",
       "      <td>colombia-u17-spain-u17</td>\n",
       "      <td>827</td>\n",
       "      <td>61934</td>\n",
       "      <td>3.0</td>\n",
       "      <td>notstarted</td>\n",
       "      <td>48960</td>\n",
       "      <td>38071</td>\n",
       "      <td>NaN</td>\n",
       "      <td>NaN</td>\n",
       "      <td>NaN</td>\n",
       "      <td>NaN</td>\n",
       "      <td>NaN</td>\n",
       "      <td>NaN</td>\n",
       "      <td>NaN</td>\n",
       "      <td>NaN</td>\n",
       "      <td>NaN</td>\n",
       "      <td>NaN</td>\n",
       "    </tr>\n",
       "    <tr>\n",
       "      <th>553</th>\n",
       "      <td>12464038</td>\n",
       "      <td>1729627200</td>\n",
       "      <td>usa-u17-south-korea-u17</td>\n",
       "      <td>827</td>\n",
       "      <td>61934</td>\n",
       "      <td>3.0</td>\n",
       "      <td>notstarted</td>\n",
       "      <td>48972</td>\n",
       "      <td>36914</td>\n",
       "      <td>NaN</td>\n",
       "      <td>NaN</td>\n",
       "      <td>NaN</td>\n",
       "      <td>NaN</td>\n",
       "      <td>NaN</td>\n",
       "      <td>NaN</td>\n",
       "      <td>NaN</td>\n",
       "      <td>NaN</td>\n",
       "      <td>NaN</td>\n",
       "      <td>NaN</td>\n",
       "    </tr>\n",
       "  </tbody>\n",
       "</table>\n",
       "<p>554 rows × 19 columns</p>\n",
       "</div>"
      ],
      "text/plain": [
       "           id        date                                  slug  \\\n",
       "0    12437039  1729429200         manchester-city-wolverhampton   \n",
       "1    12437032  1729438200                     liverpool-chelsea   \n",
       "2    12437036  1729537200      nottingham-forest-crystal-palace   \n",
       "3    12437847  1729425600               mallorca-rayo-vallecano   \n",
       "4    12437835  1729433700               leganes-atletico-madrid   \n",
       "..        ...         ...                                   ...   \n",
       "549  12872190  1729622700  connahs-quay-nomads-aberystwyth-town   \n",
       "550  12464047  1729638000           ecuador-u17-new-zealand-u17   \n",
       "551  12464084  1729638000    dominican-republic-u17-nigeria-u17   \n",
       "552  12464043  1729627200                colombia-u17-spain-u17   \n",
       "553  12464038  1729627200               usa-u17-south-korea-u17   \n",
       "\n",
       "     tournament_uniqueTournament_id  season_id  roundInfo_round status_type  \\\n",
       "0                                17      61627              8.0    finished   \n",
       "1                                17      61627              8.0    finished   \n",
       "2                                17      61627              8.0    finished   \n",
       "3                                 8      61643             10.0    finished   \n",
       "4                                 8      61643             10.0    finished   \n",
       "..                              ...        ...              ...         ...   \n",
       "549                             367      61686             27.0  notstarted   \n",
       "550                             827      61934              3.0  notstarted   \n",
       "551                             827      61934              3.0  notstarted   \n",
       "552                             827      61934              3.0  notstarted   \n",
       "553                             827      61934              3.0  notstarted   \n",
       "\n",
       "     homeTeam_id  awayTeam_id  homeScore_current  homeScore_display  \\\n",
       "0              3           17                1.0                1.0   \n",
       "1             44           38                2.0                2.0   \n",
       "2             14            7                1.0                1.0   \n",
       "3           2826         2818                1.0                1.0   \n",
       "4           2836         2845                3.0                3.0   \n",
       "..           ...          ...                ...                ...   \n",
       "549         4912         4905                NaN                NaN   \n",
       "550       215559        44561                NaN                NaN   \n",
       "551        44555       413097                NaN                NaN   \n",
       "552        48960        38071                NaN                NaN   \n",
       "553        48972        36914                NaN                NaN   \n",
       "\n",
       "     homeScore_period1  homeScore_period2  homeScore_normaltime  \\\n",
       "0                  1.0                0.0                   1.0   \n",
       "1                  1.0                1.0                   2.0   \n",
       "2                  0.0                1.0                   1.0   \n",
       "3                  0.0                1.0                   1.0   \n",
       "4                  0.0                3.0                   3.0   \n",
       "..                 ...                ...                   ...   \n",
       "549                NaN                NaN                   NaN   \n",
       "550                NaN                NaN                   NaN   \n",
       "551                NaN                NaN                   NaN   \n",
       "552                NaN                NaN                   NaN   \n",
       "553                NaN                NaN                   NaN   \n",
       "\n",
       "     awayScore_current  awayScore_display  awayScore_period1  \\\n",
       "0                  2.0                2.0                1.0   \n",
       "1                  1.0                1.0                0.0   \n",
       "2                  0.0                0.0                0.0   \n",
       "3                  0.0                0.0                0.0   \n",
       "4                  1.0                1.0                1.0   \n",
       "..                 ...                ...                ...   \n",
       "549                NaN                NaN                NaN   \n",
       "550                NaN                NaN                NaN   \n",
       "551                NaN                NaN                NaN   \n",
       "552                NaN                NaN                NaN   \n",
       "553                NaN                NaN                NaN   \n",
       "\n",
       "     awayScore_period2  awayScore_normaltime  \n",
       "0                  1.0                   2.0  \n",
       "1                  1.0                   1.0  \n",
       "2                  0.0                   0.0  \n",
       "3                  0.0                   0.0  \n",
       "4                  0.0                   1.0  \n",
       "..                 ...                   ...  \n",
       "549                NaN                   NaN  \n",
       "550                NaN                   NaN  \n",
       "551                NaN                   NaN  \n",
       "552                NaN                   NaN  \n",
       "553                NaN                   NaN  \n",
       "\n",
       "[554 rows x 19 columns]"
      ]
     },
     "execution_count": 8,
     "metadata": {},
     "output_type": "execute_result"
    }
   ],
   "source": [
    "model_cols = ['id','startTimestamp','slug','tournament.uniqueTournament.id','season.id',\n",
    "                'roundInfo.round','status.type','homeTeam.id','awayTeam.id',\n",
    "                'homeScore.current','homeScore.display','homeScore.period1','homeScore.period2','homeScore.normaltime',\n",
    "                'awayScore.current','awayScore.display','awayScore.period1','awayScore.period2','awayScore.normaltime',\n",
    "                ]\n",
    "\n",
    "new_cols = ['id','date','slug','tournament_uniqueTournament_id','season_id',\n",
    "                'roundInfo_round','status_type','homeTeam_id','awayTeam_id',\n",
    "                'homeScore_current','homeScore_display','homeScore_period1','homeScore_period2','homeScore_normaltime',\n",
    "                'awayScore_current','awayScore_display','awayScore_period1','awayScore_period2','awayScore_normaltime',\n",
    "                ]\n",
    "\n",
    "\n",
    "df1 = expanded_data[model_cols]\n",
    "df1.columns = new_cols\n",
    "df1"
   ]
  },
  {
   "cell_type": "code",
   "execution_count": 7,
   "id": "5f85d095-2cc1-45e3-bbb6-3339d6dab715",
   "metadata": {},
   "outputs": [
    {
     "name": "stderr",
     "output_type": "stream",
     "text": [
      "C:\\Users\\ahmet.yildirir\\AppData\\Local\\Temp\\ipykernel_12468\\1173372429.py:178: SettingWithCopyWarning: \n",
      "A value is trying to be set on a copy of a slice from a DataFrame.\n",
      "Try using .loc[row_indexer,col_indexer] = value instead\n",
      "\n",
      "See the caveats in the documentation: https://pandas.pydata.org/pandas-docs/stable/user_guide/indexing.html#returning-a-view-versus-a-copy\n",
      "  df1['date'] = pd.to_datetime(df1['startTimestamp'], unit='s') + timedelta(hours=3)\n"
     ]
    },
    {
     "name": "stdout",
     "output_type": "stream",
     "text": [
      "Match ID 12437039 zaten mevcut, eklenmedi.\n",
      "Match ID 12437032 zaten mevcut, eklenmedi.\n",
      "Match ID 12437036 zaten mevcut, eklenmedi.\n",
      "Match ID 12437847 zaten mevcut, eklenmedi.\n",
      "Match ID 12437835 zaten mevcut, eklenmedi.\n",
      "Match ID 12437852 zaten mevcut, eklenmedi.\n",
      "Match ID 12437839 zaten mevcut, eklenmedi.\n",
      "Match ID 12437854 zaten mevcut, eklenmedi.\n",
      "Match ID 12499331 zaten mevcut, eklenmedi.\n",
      "Match ID 12499335 zaten mevcut, eklenmedi.\n",
      "Match ID 12499325 zaten mevcut, eklenmedi.\n",
      "Match ID 12499334 zaten mevcut, eklenmedi.\n",
      "Match ID 12499329 zaten mevcut, eklenmedi.\n",
      "Match ID 12499710 zaten mevcut, eklenmedi.\n",
      "Match ID 12499700 zaten mevcut, eklenmedi.\n",
      "Match ID 12451038 zaten mevcut, eklenmedi.\n",
      "Match ID 12451034 zaten mevcut, eklenmedi.\n",
      "Match ID 12451040 zaten mevcut, eklenmedi.\n",
      "Match ID 12451036 zaten mevcut, eklenmedi.\n",
      "Match ID 12451042 zaten mevcut, eklenmedi.\n",
      "Match ID 12448385 zaten mevcut, eklenmedi.\n",
      "Match ID 12448386 zaten mevcut, eklenmedi.\n",
      "Match ID 12448387 zaten mevcut, eklenmedi.\n",
      "Match ID 12117273 zaten mevcut, eklenmedi.\n",
      "Match ID 12530887 zaten mevcut, eklenmedi.\n",
      "Match ID 12530888 zaten mevcut, eklenmedi.\n",
      "Match ID 12530884 zaten mevcut, eklenmedi.\n",
      "Match ID 12530885 zaten mevcut, eklenmedi.\n",
      "Match ID 12421101 zaten mevcut, eklenmedi.\n",
      "Match ID 12421095 zaten mevcut, eklenmedi.\n",
      "Match ID 12421103 zaten mevcut, eklenmedi.\n",
      "Match ID 12568242 zaten mevcut, eklenmedi.\n",
      "Match ID 12568225 zaten mevcut, eklenmedi.\n",
      "Match ID 12568264 zaten mevcut, eklenmedi.\n",
      "Match ID 12568265 zaten mevcut, eklenmedi.\n"
     ]
    },
    {
     "name": "stderr",
     "output_type": "stream",
     "text": [
      "C:\\Users\\ahmet.yildirir\\AppData\\Local\\Programs\\Python\\Python312\\Lib\\site-packages\\django\\db\\models\\fields\\__init__.py:1595: RuntimeWarning: DateTimeField Match.startTimestamp received a naive datetime (2024-10-22 14:00:00) while time zone support is active.\n",
      "  warnings.warn(\n"
     ]
    },
    {
     "name": "stdout",
     "output_type": "stream",
     "text": [
      "Match ID 12792310 başarıyla eklendi.\n"
     ]
    },
    {
     "name": "stderr",
     "output_type": "stream",
     "text": [
      "C:\\Users\\ahmet.yildirir\\AppData\\Local\\Programs\\Python\\Python312\\Lib\\site-packages\\django\\db\\models\\fields\\__init__.py:1595: RuntimeWarning: DateTimeField Match.startTimestamp received a naive datetime (2024-10-22 15:00:00) while time zone support is active.\n",
      "  warnings.warn(\n"
     ]
    },
    {
     "name": "stdout",
     "output_type": "stream",
     "text": [
      "Match ID 12796564 başarıyla eklendi.\n",
      "Match ID 12796563 başarıyla eklendi.\n",
      "Match ID 12792315 başarıyla eklendi.\n"
     ]
    },
    {
     "name": "stderr",
     "output_type": "stream",
     "text": [
      "C:\\Users\\ahmet.yildirir\\AppData\\Local\\Programs\\Python\\Python312\\Lib\\site-packages\\django\\db\\models\\fields\\__init__.py:1595: RuntimeWarning: DateTimeField Match.startTimestamp received a naive datetime (2024-10-22 15:30:00) while time zone support is active.\n",
      "  warnings.warn(\n"
     ]
    },
    {
     "name": "stdout",
     "output_type": "stream",
     "text": [
      "Match ID 12792322 başarıyla eklendi.\n"
     ]
    },
    {
     "name": "stderr",
     "output_type": "stream",
     "text": [
      "C:\\Users\\ahmet.yildirir\\AppData\\Local\\Programs\\Python\\Python312\\Lib\\site-packages\\django\\db\\models\\fields\\__init__.py:1595: RuntimeWarning: DateTimeField Match.startTimestamp received a naive datetime (2024-10-22 16:00:00) while time zone support is active.\n",
      "  warnings.warn(\n"
     ]
    },
    {
     "name": "stdout",
     "output_type": "stream",
     "text": [
      "Match ID 12792314 başarıyla eklendi.\n"
     ]
    },
    {
     "name": "stderr",
     "output_type": "stream",
     "text": [
      "C:\\Users\\ahmet.yildirir\\AppData\\Local\\Programs\\Python\\Python312\\Lib\\site-packages\\django\\db\\models\\fields\\__init__.py:1595: RuntimeWarning: DateTimeField Match.startTimestamp received a naive datetime (2024-10-20 21:00:00) while time zone support is active.\n",
      "  warnings.warn(\n"
     ]
    },
    {
     "name": "stdout",
     "output_type": "stream",
     "text": [
      "Match ID 11937356 başarıyla eklendi.\n"
     ]
    },
    {
     "name": "stderr",
     "output_type": "stream",
     "text": [
      "C:\\Users\\ahmet.yildirir\\AppData\\Local\\Programs\\Python\\Python312\\Lib\\site-packages\\django\\db\\models\\fields\\__init__.py:1595: RuntimeWarning: DateTimeField Match.startTimestamp received a naive datetime (2024-10-20 23:15:00) while time zone support is active.\n",
      "  warnings.warn(\n"
     ]
    },
    {
     "name": "stdout",
     "output_type": "stream",
     "text": [
      "Match ID 11937351 başarıyla eklendi.\n",
      "Match ID 11937352 başarıyla eklendi.\n"
     ]
    },
    {
     "name": "stderr",
     "output_type": "stream",
     "text": [
      "C:\\Users\\ahmet.yildirir\\AppData\\Local\\Programs\\Python\\Python312\\Lib\\site-packages\\django\\db\\models\\fields\\__init__.py:1595: RuntimeWarning: DateTimeField Match.startTimestamp received a naive datetime (2024-10-21 01:30:00) while time zone support is active.\n",
      "  warnings.warn(\n"
     ]
    },
    {
     "name": "stdout",
     "output_type": "stream",
     "text": [
      "Match ID 11937360 başarıyla eklendi.\n",
      "Match ID 11937350 başarıyla eklendi.\n",
      "Match ID 12420592 başarıyla eklendi.\n"
     ]
    },
    {
     "name": "stderr",
     "output_type": "stream",
     "text": [
      "C:\\Users\\ahmet.yildirir\\AppData\\Local\\Programs\\Python\\Python312\\Lib\\site-packages\\django\\db\\models\\fields\\__init__.py:1595: RuntimeWarning: DateTimeField Match.startTimestamp received a naive datetime (2024-10-20 17:00:00) while time zone support is active.\n",
      "  warnings.warn(\n"
     ]
    },
    {
     "name": "stdout",
     "output_type": "stream",
     "text": [
      "Match ID 12404860 başarıyla eklendi.\n"
     ]
    },
    {
     "name": "stderr",
     "output_type": "stream",
     "text": [
      "C:\\Users\\ahmet.yildirir\\AppData\\Local\\Programs\\Python\\Python312\\Lib\\site-packages\\django\\db\\models\\fields\\__init__.py:1595: RuntimeWarning: DateTimeField Match.startTimestamp received a naive datetime (2024-10-20 19:30:00) while time zone support is active.\n",
      "  warnings.warn(\n"
     ]
    },
    {
     "name": "stdout",
     "output_type": "stream",
     "text": [
      "Match ID 12404858 başarıyla eklendi.\n"
     ]
    },
    {
     "name": "stderr",
     "output_type": "stream",
     "text": [
      "C:\\Users\\ahmet.yildirir\\AppData\\Local\\Programs\\Python\\Python312\\Lib\\site-packages\\django\\db\\models\\fields\\__init__.py:1595: RuntimeWarning: DateTimeField Match.startTimestamp received a naive datetime (2024-10-20 18:00:00) while time zone support is active.\n",
      "  warnings.warn(\n"
     ]
    },
    {
     "name": "stdout",
     "output_type": "stream",
     "text": [
      "Match ID 12420448 başarıyla eklendi.\n"
     ]
    },
    {
     "name": "stderr",
     "output_type": "stream",
     "text": [
      "C:\\Users\\ahmet.yildirir\\AppData\\Local\\Programs\\Python\\Python312\\Lib\\site-packages\\django\\db\\models\\fields\\__init__.py:1595: RuntimeWarning: DateTimeField Match.startTimestamp received a naive datetime (2024-10-21 17:00:00) while time zone support is active.\n",
      "  warnings.warn(\n"
     ]
    },
    {
     "name": "stdout",
     "output_type": "stream",
     "text": [
      "Match ID 12420445 başarıyla eklendi.\n",
      "Match ID 12468952 başarıyla eklendi.\n"
     ]
    },
    {
     "name": "stderr",
     "output_type": "stream",
     "text": [
      "C:\\Users\\ahmet.yildirir\\AppData\\Local\\Programs\\Python\\Python312\\Lib\\site-packages\\django\\db\\models\\fields\\__init__.py:1595: RuntimeWarning: DateTimeField Match.startTimestamp received a naive datetime (2024-10-20 15:00:00) while time zone support is active.\n",
      "  warnings.warn(\n"
     ]
    },
    {
     "name": "stdout",
     "output_type": "stream",
     "text": [
      "Match ID 12467680 başarıyla eklendi.\n"
     ]
    },
    {
     "name": "stderr",
     "output_type": "stream",
     "text": [
      "C:\\Users\\ahmet.yildirir\\AppData\\Local\\Programs\\Python\\Python312\\Lib\\site-packages\\django\\db\\models\\fields\\__init__.py:1595: RuntimeWarning: DateTimeField Match.startTimestamp received a naive datetime (2024-10-20 17:15:00) while time zone support is active.\n",
      "  warnings.warn(\n"
     ]
    },
    {
     "name": "stdout",
     "output_type": "stream",
     "text": [
      "Match ID 12467679 başarıyla eklendi.\n",
      "Match ID 12467682 başarıyla eklendi.\n",
      "Match ID 12467678 başarıyla eklendi.\n"
     ]
    },
    {
     "name": "stderr",
     "output_type": "stream",
     "text": [
      "C:\\Users\\ahmet.yildirir\\AppData\\Local\\Programs\\Python\\Python312\\Lib\\site-packages\\django\\db\\models\\fields\\__init__.py:1595: RuntimeWarning: DateTimeField Match.startTimestamp received a naive datetime (2024-10-21 21:30:00) while time zone support is active.\n",
      "  warnings.warn(\n"
     ]
    },
    {
     "name": "stdout",
     "output_type": "stream",
     "text": [
      "Match ID 12467688 başarıyla eklendi.\n"
     ]
    },
    {
     "name": "stderr",
     "output_type": "stream",
     "text": [
      "C:\\Users\\ahmet.yildirir\\AppData\\Local\\Programs\\Python\\Python312\\Lib\\site-packages\\django\\db\\models\\fields\\__init__.py:1595: RuntimeWarning: DateTimeField Match.startTimestamp received a naive datetime (2024-10-20 16:00:00) while time zone support is active.\n",
      "  warnings.warn(\n"
     ]
    },
    {
     "name": "stdout",
     "output_type": "stream",
     "text": [
      "Match ID 12527723 başarıyla eklendi.\n",
      "Match ID 12527726 başarıyla eklendi.\n",
      "Match ID 12527728 başarıyla eklendi.\n"
     ]
    },
    {
     "name": "stderr",
     "output_type": "stream",
     "text": [
      "C:\\Users\\ahmet.yildirir\\AppData\\Local\\Programs\\Python\\Python312\\Lib\\site-packages\\django\\db\\models\\fields\\__init__.py:1595: RuntimeWarning: DateTimeField Match.startTimestamp received a naive datetime (2024-10-20 18:15:00) while time zone support is active.\n",
      "  warnings.warn(\n"
     ]
    },
    {
     "name": "stdout",
     "output_type": "stream",
     "text": [
      "Match ID 12527724 başarıyla eklendi.\n"
     ]
    },
    {
     "name": "stderr",
     "output_type": "stream",
     "text": [
      "C:\\Users\\ahmet.yildirir\\AppData\\Local\\Programs\\Python\\Python312\\Lib\\site-packages\\django\\db\\models\\fields\\__init__.py:1595: RuntimeWarning: DateTimeField Match.startTimestamp received a naive datetime (2024-10-21 21:45:00) while time zone support is active.\n",
      "  warnings.warn(\n"
     ]
    },
    {
     "name": "stdout",
     "output_type": "stream",
     "text": [
      "Match ID 12853214 başarıyla eklendi.\n",
      "Match ID 12146499 başarıyla eklendi.\n"
     ]
    },
    {
     "name": "stderr",
     "output_type": "stream",
     "text": [
      "C:\\Users\\ahmet.yildirir\\AppData\\Local\\Programs\\Python\\Python312\\Lib\\site-packages\\django\\db\\models\\fields\\__init__.py:1595: RuntimeWarning: DateTimeField Match.startTimestamp received a naive datetime (2024-10-21 00:30:00) while time zone support is active.\n",
      "  warnings.warn(\n"
     ]
    },
    {
     "name": "stdout",
     "output_type": "stream",
     "text": [
      "Match ID 12146503 başarıyla eklendi.\n",
      "Match ID 12146501 başarıyla eklendi.\n"
     ]
    },
    {
     "name": "stderr",
     "output_type": "stream",
     "text": [
      "C:\\Users\\ahmet.yildirir\\AppData\\Local\\Programs\\Python\\Python312\\Lib\\site-packages\\django\\db\\models\\fields\\__init__.py:1595: RuntimeWarning: DateTimeField Match.startTimestamp received a naive datetime (2024-10-22 02:00:00) while time zone support is active.\n",
      "  warnings.warn(\n"
     ]
    },
    {
     "name": "stdout",
     "output_type": "stream",
     "text": [
      "Match ID 12146514 başarıyla eklendi.\n"
     ]
    },
    {
     "name": "stderr",
     "output_type": "stream",
     "text": [
      "C:\\Users\\ahmet.yildirir\\AppData\\Local\\Programs\\Python\\Python312\\Lib\\site-packages\\django\\db\\models\\fields\\__init__.py:1595: RuntimeWarning: DateTimeField Match.startTimestamp received a naive datetime (2024-10-21 21:00:00) while time zone support is active.\n",
      "  warnings.warn(\n"
     ]
    },
    {
     "name": "stdout",
     "output_type": "stream",
     "text": [
      "Match ID 12445071 başarıyla eklendi.\n",
      "Match ID 12445073 başarıyla eklendi.\n",
      "Match ID 12445068 başarıyla eklendi.\n",
      "Match ID 12445072 başarıyla eklendi.\n",
      "Match ID 12596635 başarıyla eklendi.\n",
      "Match ID 12596637 başarıyla eklendi.\n"
     ]
    },
    {
     "name": "stderr",
     "output_type": "stream",
     "text": [
      "C:\\Users\\ahmet.yildirir\\AppData\\Local\\Programs\\Python\\Python312\\Lib\\site-packages\\django\\db\\models\\fields\\__init__.py:1595: RuntimeWarning: DateTimeField Match.startTimestamp received a naive datetime (2024-10-20 19:00:00) while time zone support is active.\n",
      "  warnings.warn(\n"
     ]
    },
    {
     "name": "stdout",
     "output_type": "stream",
     "text": [
      "Match ID 12596625 başarıyla eklendi.\n"
     ]
    },
    {
     "name": "stderr",
     "output_type": "stream",
     "text": [
      "C:\\Users\\ahmet.yildirir\\AppData\\Local\\Programs\\Python\\Python312\\Lib\\site-packages\\django\\db\\models\\fields\\__init__.py:1595: RuntimeWarning: DateTimeField Match.startTimestamp received a naive datetime (2024-10-21 20:00:00) while time zone support is active.\n",
      "  warnings.warn(\n"
     ]
    },
    {
     "name": "stdout",
     "output_type": "stream",
     "text": [
      "Match ID 12596630 başarıyla eklendi.\n"
     ]
    },
    {
     "name": "stderr",
     "output_type": "stream",
     "text": [
      "C:\\Users\\ahmet.yildirir\\AppData\\Local\\Programs\\Python\\Python312\\Lib\\site-packages\\django\\db\\models\\fields\\__init__.py:1595: RuntimeWarning: DateTimeField Match.startTimestamp received a naive datetime (2024-10-20 15:30:00) while time zone support is active.\n",
      "  warnings.warn(\n"
     ]
    },
    {
     "name": "stdout",
     "output_type": "stream",
     "text": [
      "Match ID 12481101 başarıyla eklendi.\n",
      "Match ID 12481099 başarıyla eklendi.\n",
      "Match ID 12481102 başarıyla eklendi.\n"
     ]
    },
    {
     "name": "stderr",
     "output_type": "stream",
     "text": [
      "C:\\Users\\ahmet.yildirir\\AppData\\Local\\Programs\\Python\\Python312\\Lib\\site-packages\\django\\db\\models\\fields\\__init__.py:1595: RuntimeWarning: DateTimeField Match.startTimestamp received a naive datetime (2024-10-20 20:00:00) while time zone support is active.\n",
      "  warnings.warn(\n"
     ]
    },
    {
     "name": "stdout",
     "output_type": "stream",
     "text": [
      "Match ID 12463974 başarıyla eklendi.\n"
     ]
    },
    {
     "name": "stderr",
     "output_type": "stream",
     "text": [
      "C:\\Users\\ahmet.yildirir\\AppData\\Local\\Programs\\Python\\Python312\\Lib\\site-packages\\django\\db\\models\\fields\\__init__.py:1595: RuntimeWarning: DateTimeField Match.startTimestamp received a naive datetime (2024-10-20 20:15:00) while time zone support is active.\n",
      "  warnings.warn(\n"
     ]
    },
    {
     "name": "stdout",
     "output_type": "stream",
     "text": [
      "Match ID 12463978 başarıyla eklendi.\n",
      "Match ID 12957129 başarıyla eklendi.\n",
      "Match ID 12021768 başarıyla eklendi.\n"
     ]
    },
    {
     "name": "stderr",
     "output_type": "stream",
     "text": [
      "C:\\Users\\ahmet.yildirir\\AppData\\Local\\Programs\\Python\\Python312\\Lib\\site-packages\\django\\db\\models\\fields\\__init__.py:1595: RuntimeWarning: DateTimeField Match.startTimestamp received a naive datetime (2024-10-20 23:30:00) while time zone support is active.\n",
      "  warnings.warn(\n"
     ]
    },
    {
     "name": "stdout",
     "output_type": "stream",
     "text": [
      "Match ID 12342947 başarıyla eklendi.\n",
      "Match ID 12021774 başarıyla eklendi.\n",
      "Match ID 12021775 başarıyla eklendi.\n",
      "Match ID 12021746 başarıyla eklendi.\n",
      "Match ID 12021773 başarıyla eklendi.\n"
     ]
    },
    {
     "name": "stderr",
     "output_type": "stream",
     "text": [
      "C:\\Users\\ahmet.yildirir\\AppData\\Local\\Programs\\Python\\Python312\\Lib\\site-packages\\django\\db\\models\\fields\\__init__.py:1595: RuntimeWarning: DateTimeField Match.startTimestamp received a naive datetime (2024-10-20 23:00:00) while time zone support is active.\n",
      "  warnings.warn(\n"
     ]
    },
    {
     "name": "stdout",
     "output_type": "stream",
     "text": [
      "Match ID 12528691 başarıyla eklendi.\n",
      "Match ID 12528682 başarıyla eklendi.\n",
      "Match ID 12528685 başarıyla eklendi.\n",
      "Match ID 12528686 başarıyla eklendi.\n",
      "Match ID 12528687 başarıyla eklendi.\n",
      "Match ID 12528688 başarıyla eklendi.\n",
      "Match ID 12528689 başarıyla eklendi.\n",
      "Match ID 12528683 başarıyla eklendi.\n",
      "Match ID 12528684 başarıyla eklendi.\n",
      "Match ID 12528690 başarıyla eklendi.\n"
     ]
    },
    {
     "name": "stderr",
     "output_type": "stream",
     "text": [
      "C:\\Users\\ahmet.yildirir\\AppData\\Local\\Programs\\Python\\Python312\\Lib\\site-packages\\django\\db\\models\\fields\\__init__.py:1595: RuntimeWarning: DateTimeField Match.startTimestamp received a naive datetime (2024-10-20 23:45:00) while time zone support is active.\n",
      "  warnings.warn(\n"
     ]
    },
    {
     "name": "stdout",
     "output_type": "stream",
     "text": [
      "Match ID 12971099 başarıyla eklendi.\n"
     ]
    },
    {
     "name": "stderr",
     "output_type": "stream",
     "text": [
      "C:\\Users\\ahmet.yildirir\\AppData\\Local\\Programs\\Python\\Python312\\Lib\\site-packages\\django\\db\\models\\fields\\__init__.py:1595: RuntimeWarning: DateTimeField Match.startTimestamp received a naive datetime (2024-10-21 01:45:00) while time zone support is active.\n",
      "  warnings.warn(\n"
     ]
    },
    {
     "name": "stdout",
     "output_type": "stream",
     "text": [
      "Match ID 12971096 başarıyla eklendi.\n"
     ]
    },
    {
     "name": "stderr",
     "output_type": "stream",
     "text": [
      "C:\\Users\\ahmet.yildirir\\AppData\\Local\\Programs\\Python\\Python312\\Lib\\site-packages\\django\\db\\models\\fields\\__init__.py:1595: RuntimeWarning: DateTimeField Match.startTimestamp received a naive datetime (2024-10-21 04:00:00) while time zone support is active.\n",
      "  warnings.warn(\n"
     ]
    },
    {
     "name": "stdout",
     "output_type": "stream",
     "text": [
      "Match ID 12971095 başarıyla eklendi.\n"
     ]
    },
    {
     "name": "stderr",
     "output_type": "stream",
     "text": [
      "C:\\Users\\ahmet.yildirir\\AppData\\Local\\Programs\\Python\\Python312\\Lib\\site-packages\\django\\db\\models\\fields\\__init__.py:1595: RuntimeWarning: DateTimeField Match.startTimestamp received a naive datetime (2024-10-20 16:30:00) while time zone support is active.\n",
      "  warnings.warn(\n"
     ]
    },
    {
     "name": "stdout",
     "output_type": "stream",
     "text": [
      "Match ID 12580696 başarıyla eklendi.\n",
      "Match ID 12580700 başarıyla eklendi.\n",
      "Match ID 12580691 başarıyla eklendi.\n"
     ]
    },
    {
     "name": "stderr",
     "output_type": "stream",
     "text": [
      "C:\\Users\\ahmet.yildirir\\AppData\\Local\\Programs\\Python\\Python312\\Lib\\site-packages\\django\\db\\models\\fields\\__init__.py:1595: RuntimeWarning: DateTimeField Match.startTimestamp received a naive datetime (2024-10-20 15:45:00) while time zone support is active.\n",
      "  warnings.warn(\n"
     ]
    },
    {
     "name": "stdout",
     "output_type": "stream",
     "text": [
      "Match ID 12402308 başarıyla eklendi.\n"
     ]
    },
    {
     "name": "stderr",
     "output_type": "stream",
     "text": [
      "C:\\Users\\ahmet.yildirir\\AppData\\Local\\Programs\\Python\\Python312\\Lib\\site-packages\\django\\db\\models\\fields\\__init__.py:1595: RuntimeWarning: DateTimeField Match.startTimestamp received a naive datetime (2024-10-20 18:30:00) while time zone support is active.\n",
      "  warnings.warn(\n"
     ]
    },
    {
     "name": "stdout",
     "output_type": "stream",
     "text": [
      "Match ID 12402295 başarıyla eklendi.\n",
      "Match ID 12402303 başarıyla eklendi.\n",
      "Match ID 12407821 başarıyla eklendi.\n",
      "Match ID 12407824 başarıyla eklendi.\n",
      "Match ID 12407822 başarıyla eklendi.\n",
      "Match ID 12407820 başarıyla eklendi.\n",
      "Match ID 12407819 başarıyla eklendi.\n",
      "Match ID 12991468 başarıyla eklendi.\n"
     ]
    },
    {
     "name": "stderr",
     "output_type": "stream",
     "text": [
      "C:\\Users\\ahmet.yildirir\\AppData\\Local\\Programs\\Python\\Python312\\Lib\\site-packages\\django\\db\\models\\fields\\__init__.py:1595: RuntimeWarning: DateTimeField Match.startTimestamp received a naive datetime (2024-10-21 02:00:00) while time zone support is active.\n",
      "  warnings.warn(\n"
     ]
    },
    {
     "name": "stdout",
     "output_type": "stream",
     "text": [
      "Match ID 12991470 başarıyla eklendi.\n"
     ]
    },
    {
     "name": "stderr",
     "output_type": "stream",
     "text": [
      "C:\\Users\\ahmet.yildirir\\AppData\\Local\\Programs\\Python\\Python312\\Lib\\site-packages\\django\\db\\models\\fields\\__init__.py:1595: RuntimeWarning: DateTimeField Match.startTimestamp received a naive datetime (2024-10-21 23:30:00) while time zone support is active.\n",
      "  warnings.warn(\n"
     ]
    },
    {
     "name": "stdout",
     "output_type": "stream",
     "text": [
      "Match ID 12991460 başarıyla eklendi.\n",
      "Match ID 12991463 başarıyla eklendi.\n",
      "Match ID 12014168 başarıyla eklendi.\n"
     ]
    },
    {
     "name": "stderr",
     "output_type": "stream",
     "text": [
      "C:\\Users\\ahmet.yildirir\\AppData\\Local\\Programs\\Python\\Python312\\Lib\\site-packages\\django\\db\\models\\fields\\__init__.py:1595: RuntimeWarning: DateTimeField Match.startTimestamp received a naive datetime (2024-10-20 21:30:00) while time zone support is active.\n",
      "  warnings.warn(\n"
     ]
    },
    {
     "name": "stdout",
     "output_type": "stream",
     "text": [
      "Match ID 12014164 başarıyla eklendi.\n"
     ]
    },
    {
     "name": "stderr",
     "output_type": "stream",
     "text": [
      "C:\\Users\\ahmet.yildirir\\AppData\\Local\\Programs\\Python\\Python312\\Lib\\site-packages\\django\\db\\models\\fields\\__init__.py:1595: RuntimeWarning: DateTimeField Match.startTimestamp received a naive datetime (2024-10-21 01:00:00) while time zone support is active.\n",
      "  warnings.warn(\n"
     ]
    },
    {
     "name": "stdout",
     "output_type": "stream",
     "text": [
      "Match ID 12014174 başarıyla eklendi.\n",
      "Match ID 12744960 başarıyla eklendi.\n",
      "Match ID 12744961 başarıyla eklendi.\n",
      "Match ID 11912252 başarıyla eklendi.\n",
      "Match ID 11912247 başarıyla eklendi.\n",
      "Match ID 11912248 başarıyla eklendi.\n",
      "Match ID 11912250 başarıyla eklendi.\n",
      "Match ID 11912256 başarıyla eklendi.\n",
      "Match ID 11912253 başarıyla eklendi.\n"
     ]
    },
    {
     "name": "stderr",
     "output_type": "stream",
     "text": [
      "C:\\Users\\ahmet.yildirir\\AppData\\Local\\Programs\\Python\\Python312\\Lib\\site-packages\\django\\db\\models\\fields\\__init__.py:1595: RuntimeWarning: DateTimeField Match.startTimestamp received a naive datetime (2024-10-20 17:45:00) while time zone support is active.\n",
      "  warnings.warn(\n"
     ]
    },
    {
     "name": "stdout",
     "output_type": "stream",
     "text": [
      "Match ID 12625009 başarıyla eklendi.\n"
     ]
    },
    {
     "name": "stderr",
     "output_type": "stream",
     "text": [
      "C:\\Users\\ahmet.yildirir\\AppData\\Local\\Programs\\Python\\Python312\\Lib\\site-packages\\django\\db\\models\\fields\\__init__.py:1595: RuntimeWarning: DateTimeField Match.startTimestamp received a naive datetime (2024-10-20 18:20:00) while time zone support is active.\n",
      "  warnings.warn(\n"
     ]
    },
    {
     "name": "stdout",
     "output_type": "stream",
     "text": [
      "Match ID 12625017 başarıyla eklendi.\n",
      "Match ID 12625012 başarıyla eklendi.\n",
      "Match ID 12489720 başarıyla eklendi.\n",
      "Match ID 12489724 başarıyla eklendi.\n"
     ]
    },
    {
     "name": "stderr",
     "output_type": "stream",
     "text": [
      "C:\\Users\\ahmet.yildirir\\AppData\\Local\\Programs\\Python\\Python312\\Lib\\site-packages\\django\\db\\models\\fields\\__init__.py:1595: RuntimeWarning: DateTimeField Match.startTimestamp received a naive datetime (2024-10-21 18:30:00) while time zone support is active.\n",
      "  warnings.warn(\n"
     ]
    },
    {
     "name": "stdout",
     "output_type": "stream",
     "text": [
      "Match ID 12489721 başarıyla eklendi.\n",
      "Match ID 12489722 başarıyla eklendi.\n",
      "Match ID 11907442 başarıyla eklendi.\n"
     ]
    },
    {
     "name": "stderr",
     "output_type": "stream",
     "text": [
      "C:\\Users\\ahmet.yildirir\\AppData\\Local\\Programs\\Python\\Python312\\Lib\\site-packages\\django\\db\\models\\fields\\__init__.py:1595: RuntimeWarning: DateTimeField Match.startTimestamp received a naive datetime (2024-10-20 17:30:00) while time zone support is active.\n",
      "  warnings.warn(\n"
     ]
    },
    {
     "name": "stdout",
     "output_type": "stream",
     "text": [
      "Match ID 11907440 başarıyla eklendi.\n"
     ]
    },
    {
     "name": "stderr",
     "output_type": "stream",
     "text": [
      "C:\\Users\\ahmet.yildirir\\AppData\\Local\\Programs\\Python\\Python312\\Lib\\site-packages\\django\\db\\models\\fields\\__init__.py:1595: RuntimeWarning: DateTimeField Match.startTimestamp received a naive datetime (2024-10-21 15:00:00) while time zone support is active.\n",
      "  warnings.warn(\n"
     ]
    },
    {
     "name": "stdout",
     "output_type": "stream",
     "text": [
      "Match ID 11907436 başarıyla eklendi.\n",
      "Match ID 11907438 başarıyla eklendi.\n"
     ]
    },
    {
     "name": "stderr",
     "output_type": "stream",
     "text": [
      "C:\\Users\\ahmet.yildirir\\AppData\\Local\\Programs\\Python\\Python312\\Lib\\site-packages\\django\\db\\models\\fields\\__init__.py:1595: RuntimeWarning: DateTimeField Match.startTimestamp received a naive datetime (2024-10-21 20:10:00) while time zone support is active.\n",
      "  warnings.warn(\n"
     ]
    },
    {
     "name": "stdout",
     "output_type": "stream",
     "text": [
      "Match ID 11907437 başarıyla eklendi.\n",
      "Match ID 12439854 başarıyla eklendi.\n",
      "Match ID 12439869 başarıyla eklendi.\n",
      "Match ID 12439868 başarıyla eklendi.\n",
      "Match ID 12091346 başarıyla eklendi.\n",
      "Match ID 12453108 başarıyla eklendi.\n",
      "Match ID 12453106 başarıyla eklendi.\n"
     ]
    },
    {
     "name": "stderr",
     "output_type": "stream",
     "text": [
      "C:\\Users\\ahmet.yildirir\\AppData\\Local\\Programs\\Python\\Python312\\Lib\\site-packages\\django\\db\\models\\fields\\__init__.py:1595: RuntimeWarning: DateTimeField Match.startTimestamp received a naive datetime (2024-10-21 00:00:00) while time zone support is active.\n",
      "  warnings.warn(\n"
     ]
    },
    {
     "name": "stdout",
     "output_type": "stream",
     "text": [
      "Match ID 12026215 başarıyla eklendi.\n",
      "Match ID 12026213 başarıyla eklendi.\n"
     ]
    },
    {
     "name": "stderr",
     "output_type": "stream",
     "text": [
      "C:\\Users\\ahmet.yildirir\\AppData\\Local\\Programs\\Python\\Python312\\Lib\\site-packages\\django\\db\\models\\fields\\__init__.py:1595: RuntimeWarning: DateTimeField Match.startTimestamp received a naive datetime (2024-10-21 02:30:00) while time zone support is active.\n",
      "  warnings.warn(\n"
     ]
    },
    {
     "name": "stdout",
     "output_type": "stream",
     "text": [
      "Match ID 12026225 başarıyla eklendi.\n",
      "Match ID 12497535 başarıyla eklendi.\n",
      "Match ID 12853083 başarıyla eklendi.\n",
      "Match ID 12592709 başarıyla eklendi.\n",
      "Match ID 12592710 başarıyla eklendi.\n",
      "Match ID 12592707 başarıyla eklendi.\n"
     ]
    },
    {
     "name": "stderr",
     "output_type": "stream",
     "text": [
      "C:\\Users\\ahmet.yildirir\\AppData\\Local\\Programs\\Python\\Python312\\Lib\\site-packages\\django\\db\\models\\fields\\__init__.py:1595: RuntimeWarning: DateTimeField Match.startTimestamp received a naive datetime (2024-10-20 20:45:00) while time zone support is active.\n",
      "  warnings.warn(\n"
     ]
    },
    {
     "name": "stdout",
     "output_type": "stream",
     "text": [
      "Match ID 12592711 başarıyla eklendi.\n",
      "Match ID 12448667 başarıyla eklendi.\n",
      "Match ID 12992167 başarıyla eklendi.\n",
      "Match ID 12587117 başarıyla eklendi.\n",
      "Match ID 12522215 başarıyla eklendi.\n",
      "Match ID 12522217 başarıyla eklendi.\n",
      "Match ID 12588469 başarıyla eklendi.\n",
      "Match ID 12588472 başarıyla eklendi.\n",
      "Match ID 12588467 başarıyla eklendi.\n",
      "Match ID 12717016 başarıyla eklendi.\n",
      "Match ID 12717019 başarıyla eklendi.\n"
     ]
    },
    {
     "name": "stderr",
     "output_type": "stream",
     "text": [
      "C:\\Users\\ahmet.yildirir\\AppData\\Local\\Programs\\Python\\Python312\\Lib\\site-packages\\django\\db\\models\\fields\\__init__.py:1595: RuntimeWarning: DateTimeField Match.startTimestamp received a naive datetime (2024-10-20 16:15:00) while time zone support is active.\n",
      "  warnings.warn(\n"
     ]
    },
    {
     "name": "stdout",
     "output_type": "stream",
     "text": [
      "Match ID 12448756 başarıyla eklendi.\n"
     ]
    },
    {
     "name": "stderr",
     "output_type": "stream",
     "text": [
      "C:\\Users\\ahmet.yildirir\\AppData\\Local\\Programs\\Python\\Python312\\Lib\\site-packages\\django\\db\\models\\fields\\__init__.py:1595: RuntimeWarning: DateTimeField Match.startTimestamp received a naive datetime (2024-10-20 18:45:00) while time zone support is active.\n",
      "  warnings.warn(\n"
     ]
    },
    {
     "name": "stdout",
     "output_type": "stream",
     "text": [
      "Match ID 12448761 başarıyla eklendi.\n",
      "Match ID 12449212 başarıyla eklendi.\n",
      "Match ID 12449211 başarıyla eklendi.\n",
      "Match ID 11973082 başarıyla eklendi.\n",
      "Match ID 11973080 başarıyla eklendi.\n"
     ]
    },
    {
     "name": "stderr",
     "output_type": "stream",
     "text": [
      "C:\\Users\\ahmet.yildirir\\AppData\\Local\\Programs\\Python\\Python312\\Lib\\site-packages\\django\\db\\models\\fields\\__init__.py:1595: RuntimeWarning: DateTimeField Match.startTimestamp received a naive datetime (2024-10-20 22:00:00) while time zone support is active.\n",
      "  warnings.warn(\n"
     ]
    },
    {
     "name": "stdout",
     "output_type": "stream",
     "text": [
      "Match ID 11973068 başarıyla eklendi.\n",
      "Match ID 11973067 başarıyla eklendi.\n"
     ]
    },
    {
     "name": "stderr",
     "output_type": "stream",
     "text": [
      "C:\\Users\\ahmet.yildirir\\AppData\\Local\\Programs\\Python\\Python312\\Lib\\site-packages\\django\\db\\models\\fields\\__init__.py:1595: RuntimeWarning: DateTimeField Match.startTimestamp received a naive datetime (2024-10-20 23:20:00) while time zone support is active.\n",
      "  warnings.warn(\n"
     ]
    },
    {
     "name": "stdout",
     "output_type": "stream",
     "text": [
      "Match ID 11973081 başarıyla eklendi.\n",
      "Match ID 11973072 başarıyla eklendi.\n",
      "Match ID 11973075 başarıyla eklendi.\n",
      "Match ID 11973073 başarıyla eklendi.\n",
      "Match ID 12967299 başarıyla eklendi.\n"
     ]
    },
    {
     "name": "stderr",
     "output_type": "stream",
     "text": [
      "C:\\Users\\ahmet.yildirir\\AppData\\Local\\Programs\\Python\\Python312\\Lib\\site-packages\\django\\db\\models\\fields\\__init__.py:1595: RuntimeWarning: DateTimeField Match.startTimestamp received a naive datetime (2024-10-22 02:05:00) while time zone support is active.\n",
      "  warnings.warn(\n"
     ]
    },
    {
     "name": "stdout",
     "output_type": "stream",
     "text": [
      "Match ID 12966692 başarıyla eklendi.\n"
     ]
    },
    {
     "name": "stderr",
     "output_type": "stream",
     "text": [
      "C:\\Users\\ahmet.yildirir\\AppData\\Local\\Programs\\Python\\Python312\\Lib\\site-packages\\django\\db\\models\\fields\\__init__.py:1595: RuntimeWarning: DateTimeField Match.startTimestamp received a naive datetime (2024-10-22 13:00:00) while time zone support is active.\n",
      "  warnings.warn(\n"
     ]
    },
    {
     "name": "stdout",
     "output_type": "stream",
     "text": [
      "Match ID 12701489 başarıyla eklendi.\n",
      "Match ID 12701488 başarıyla eklendi.\n",
      "Match ID 12701483 başarıyla eklendi.\n",
      "Match ID 12701486 başarıyla eklendi.\n"
     ]
    },
    {
     "name": "stderr",
     "output_type": "stream",
     "text": [
      "C:\\Users\\ahmet.yildirir\\AppData\\Local\\Programs\\Python\\Python312\\Lib\\site-packages\\django\\db\\models\\fields\\__init__.py:1595: RuntimeWarning: DateTimeField Match.startTimestamp received a naive datetime (2024-10-21 19:00:00) while time zone support is active.\n",
      "  warnings.warn(\n"
     ]
    },
    {
     "name": "stdout",
     "output_type": "stream",
     "text": [
      "Match ID 12701461 başarıyla eklendi.\n",
      "Match ID 12701470 başarıyla eklendi.\n",
      "Match ID 12701466 başarıyla eklendi.\n",
      "Match ID 12701471 başarıyla eklendi.\n",
      "Match ID 12586162 başarıyla eklendi.\n",
      "Match ID 12586175 başarıyla eklendi.\n",
      "Match ID 12882140 başarıyla eklendi.\n",
      "Match ID 12792335 başarıyla eklendi.\n",
      "Match ID 12792338 başarıyla eklendi.\n",
      "Match ID 12163045 başarıyla eklendi.\n",
      "Match ID 12163043 başarıyla eklendi.\n",
      "Match ID 12163042 başarıyla eklendi.\n",
      "Match ID 12753045 başarıyla eklendi.\n",
      "Match ID 12753043 başarıyla eklendi.\n",
      "Match ID 12753040 başarıyla eklendi.\n",
      "Match ID 12965443 başarıyla eklendi.\n",
      "Match ID 12965446 başarıyla eklendi.\n",
      "Match ID 12965447 başarıyla eklendi.\n",
      "Match ID 12903989 başarıyla eklendi.\n"
     ]
    },
    {
     "name": "stderr",
     "output_type": "stream",
     "text": [
      "C:\\Users\\ahmet.yildirir\\AppData\\Local\\Programs\\Python\\Python312\\Lib\\site-packages\\django\\db\\models\\fields\\__init__.py:1595: RuntimeWarning: DateTimeField Match.startTimestamp received a naive datetime (2024-10-20 16:45:00) while time zone support is active.\n",
      "  warnings.warn(\n"
     ]
    },
    {
     "name": "stdout",
     "output_type": "stream",
     "text": [
      "Match ID 12425124 başarıyla eklendi.\n"
     ]
    },
    {
     "name": "stderr",
     "output_type": "stream",
     "text": [
      "C:\\Users\\ahmet.yildirir\\AppData\\Local\\Programs\\Python\\Python312\\Lib\\site-packages\\django\\db\\models\\fields\\__init__.py:1595: RuntimeWarning: DateTimeField Match.startTimestamp received a naive datetime (2024-10-20 19:15:00) while time zone support is active.\n",
      "  warnings.warn(\n"
     ]
    },
    {
     "name": "stdout",
     "output_type": "stream",
     "text": [
      "Match ID 12425132 başarıyla eklendi.\n"
     ]
    },
    {
     "name": "stderr",
     "output_type": "stream",
     "text": [
      "C:\\Users\\ahmet.yildirir\\AppData\\Local\\Programs\\Python\\Python312\\Lib\\site-packages\\django\\db\\models\\fields\\__init__.py:1595: RuntimeWarning: DateTimeField Match.startTimestamp received a naive datetime (2024-10-21 18:00:00) while time zone support is active.\n",
      "  warnings.warn(\n"
     ]
    },
    {
     "name": "stdout",
     "output_type": "stream",
     "text": [
      "Match ID 12425131 başarıyla eklendi.\n",
      "Match ID 12041059 başarıyla eklendi.\n",
      "Match ID 12041063 başarıyla eklendi.\n",
      "Match ID 12041056 başarıyla eklendi.\n",
      "Match ID 12041067 başarıyla eklendi.\n",
      "Match ID 12447866 başarıyla eklendi.\n",
      "Match ID 12447864 başarıyla eklendi.\n"
     ]
    },
    {
     "name": "stderr",
     "output_type": "stream",
     "text": [
      "C:\\Users\\ahmet.yildirir\\AppData\\Local\\Programs\\Python\\Python312\\Lib\\site-packages\\django\\db\\models\\fields\\__init__.py:1595: RuntimeWarning: DateTimeField Match.startTimestamp received a naive datetime (2024-10-21 03:30:00) while time zone support is active.\n",
      "  warnings.warn(\n"
     ]
    },
    {
     "name": "stdout",
     "output_type": "stream",
     "text": [
      "Match ID 12447859 başarıyla eklendi.\n"
     ]
    },
    {
     "name": "stderr",
     "output_type": "stream",
     "text": [
      "C:\\Users\\ahmet.yildirir\\AppData\\Local\\Programs\\Python\\Python312\\Lib\\site-packages\\django\\db\\models\\fields\\__init__.py:1595: RuntimeWarning: DateTimeField Match.startTimestamp received a naive datetime (2024-10-22 05:00:00) while time zone support is active.\n",
      "  warnings.warn(\n"
     ]
    },
    {
     "name": "stdout",
     "output_type": "stream",
     "text": [
      "Match ID 12447869 başarıyla eklendi.\n",
      "Match ID 12497313 başarıyla eklendi.\n",
      "Match ID 12497320 başarıyla eklendi.\n",
      "Match ID 12497317 başarıyla eklendi.\n",
      "Match ID 12497316 başarıyla eklendi.\n",
      "Match ID 12904825 başarıyla eklendi.\n",
      "Match ID 12442016 başarıyla eklendi.\n",
      "Match ID 12463385 başarıyla eklendi.\n"
     ]
    },
    {
     "name": "stderr",
     "output_type": "stream",
     "text": [
      "C:\\Users\\ahmet.yildirir\\AppData\\Local\\Programs\\Python\\Python312\\Lib\\site-packages\\django\\db\\models\\fields\\__init__.py:1595: RuntimeWarning: DateTimeField Match.startTimestamp received a naive datetime (2024-10-20 16:05:00) while time zone support is active.\n",
      "  warnings.warn(\n"
     ]
    },
    {
     "name": "stdout",
     "output_type": "stream",
     "text": [
      "Match ID 12963151 başarıyla eklendi.\n",
      "Match ID 12963153 başarıyla eklendi.\n",
      "Match ID 11989130 başarıyla eklendi.\n",
      "Match ID 11989127 başarıyla eklendi.\n",
      "Match ID 12525944 başarıyla eklendi.\n"
     ]
    },
    {
     "name": "stderr",
     "output_type": "stream",
     "text": [
      "C:\\Users\\ahmet.yildirir\\AppData\\Local\\Programs\\Python\\Python312\\Lib\\site-packages\\django\\db\\models\\fields\\__init__.py:1595: RuntimeWarning: DateTimeField Match.startTimestamp received a naive datetime (2024-10-20 20:30:00) while time zone support is active.\n",
      "  warnings.warn(\n"
     ]
    },
    {
     "name": "stdout",
     "output_type": "stream",
     "text": [
      "Match ID 12525948 başarıyla eklendi.\n",
      "Match ID 12568825 başarıyla eklendi.\n",
      "Match ID 12568803 başarıyla eklendi.\n",
      "Match ID 12568810 başarıyla eklendi.\n",
      "Match ID 12507384 başarıyla eklendi.\n",
      "Match ID 12531528 başarıyla eklendi.\n",
      "Match ID 12643012 başarıyla eklendi.\n",
      "Match ID 12643017 başarıyla eklendi.\n",
      "Match ID 12643015 başarıyla eklendi.\n",
      "Match ID 12643016 başarıyla eklendi.\n",
      "Match ID 12643018 başarıyla eklendi.\n",
      "Match ID 12643019 başarıyla eklendi.\n",
      "Match ID 12940059 başarıyla eklendi.\n",
      "Match ID 12643071 başarıyla eklendi.\n",
      "Match ID 12819287 başarıyla eklendi.\n",
      "Match ID 12819285 başarıyla eklendi.\n"
     ]
    },
    {
     "name": "stderr",
     "output_type": "stream",
     "text": [
      "C:\\Users\\ahmet.yildirir\\AppData\\Local\\Programs\\Python\\Python312\\Lib\\site-packages\\django\\db\\models\\fields\\__init__.py:1595: RuntimeWarning: DateTimeField Match.startTimestamp received a naive datetime (2024-10-21 16:30:00) while time zone support is active.\n",
      "  warnings.warn(\n"
     ]
    },
    {
     "name": "stdout",
     "output_type": "stream",
     "text": [
      "Match ID 12819281 başarıyla eklendi.\n",
      "Match ID 12818290 başarıyla eklendi.\n",
      "Match ID 12819288 başarıyla eklendi.\n",
      "Match ID 12640542 başarıyla eklendi.\n",
      "Match ID 12640539 başarıyla eklendi.\n",
      "Match ID 12523619 başarıyla eklendi.\n"
     ]
    },
    {
     "name": "stderr",
     "output_type": "stream",
     "text": [
      "C:\\Users\\ahmet.yildirir\\AppData\\Local\\Programs\\Python\\Python312\\Lib\\site-packages\\django\\db\\models\\fields\\__init__.py:1595: RuntimeWarning: DateTimeField Match.startTimestamp received a naive datetime (2024-10-20 22:15:00) while time zone support is active.\n",
      "  warnings.warn(\n"
     ]
    },
    {
     "name": "stdout",
     "output_type": "stream",
     "text": [
      "Match ID 12868366 başarıyla eklendi.\n",
      "Match ID 12868424 başarıyla eklendi.\n",
      "Match ID 12650998 başarıyla eklendi.\n",
      "Match ID 12755487 başarıyla eklendi.\n",
      "Match ID 12545907 başarıyla eklendi.\n",
      "Match ID 12545908 başarıyla eklendi.\n",
      "Match ID 12545564 başarıyla eklendi.\n",
      "Match ID 12545557 başarıyla eklendi.\n",
      "Match ID 12545560 başarıyla eklendi.\n",
      "Match ID 12545563 başarıyla eklendi.\n",
      "Match ID 12545554 başarıyla eklendi.\n",
      "Match ID 12545562 başarıyla eklendi.\n",
      "Match ID 12545216 başarıyla eklendi.\n",
      "Match ID 12545215 başarıyla eklendi.\n",
      "Match ID 12545214 başarıyla eklendi.\n",
      "Match ID 12545219 başarıyla eklendi.\n",
      "Match ID 12545218 başarıyla eklendi.\n",
      "Match ID 12545220 başarıyla eklendi.\n",
      "Match ID 12545217 başarıyla eklendi.\n",
      "Match ID 12598366 başarıyla eklendi.\n"
     ]
    },
    {
     "name": "stderr",
     "output_type": "stream",
     "text": [
      "C:\\Users\\ahmet.yildirir\\AppData\\Local\\Programs\\Python\\Python312\\Lib\\site-packages\\django\\db\\models\\fields\\__init__.py:1595: RuntimeWarning: DateTimeField Match.startTimestamp received a naive datetime (2024-10-21 19:30:00) while time zone support is active.\n",
      "  warnings.warn(\n"
     ]
    },
    {
     "name": "stdout",
     "output_type": "stream",
     "text": [
      "Match ID 12598368 başarıyla eklendi.\n",
      "Match ID 12177169 başarıyla eklendi.\n",
      "Match ID 12085481 başarıyla eklendi.\n",
      "Match ID 12852980 başarıyla eklendi.\n",
      "Match ID 12444676 başarıyla eklendi.\n"
     ]
    },
    {
     "name": "stderr",
     "output_type": "stream",
     "text": [
      "C:\\Users\\ahmet.yildirir\\AppData\\Local\\Programs\\Python\\Python312\\Lib\\site-packages\\django\\db\\models\\fields\\__init__.py:1595: RuntimeWarning: DateTimeField Match.startTimestamp received a naive datetime (2024-10-20 18:25:00) while time zone support is active.\n",
      "  warnings.warn(\n"
     ]
    },
    {
     "name": "stdout",
     "output_type": "stream",
     "text": [
      "Match ID 12444635 başarıyla eklendi.\n"
     ]
    },
    {
     "name": "stderr",
     "output_type": "stream",
     "text": [
      "C:\\Users\\ahmet.yildirir\\AppData\\Local\\Programs\\Python\\Python312\\Lib\\site-packages\\django\\db\\models\\fields\\__init__.py:1595: RuntimeWarning: DateTimeField Match.startTimestamp received a naive datetime (2024-10-20 15:15:00) while time zone support is active.\n",
      "  warnings.warn(\n"
     ]
    },
    {
     "name": "stdout",
     "output_type": "stream",
     "text": [
      "Match ID 12255949 başarıyla eklendi.\n",
      "Match ID 12653629 başarıyla eklendi.\n",
      "Match ID 12653632 başarıyla eklendi.\n",
      "Match ID 12653641 başarıyla eklendi.\n",
      "Match ID 12653643 başarıyla eklendi.\n",
      "Match ID 12590264 başarıyla eklendi.\n",
      "Match ID 12590276 başarıyla eklendi.\n",
      "Match ID 12531968 başarıyla eklendi.\n",
      "Match ID 12969179 başarıyla eklendi.\n",
      "Match ID 12625088 başarıyla eklendi.\n",
      "Match ID 12621762 başarıyla eklendi.\n",
      "Match ID 12621759 başarıyla eklendi.\n",
      "Match ID 12625086 başarıyla eklendi.\n",
      "Match ID 12625087 başarıyla eklendi.\n",
      "Match ID 12621763 başarıyla eklendi.\n",
      "Match ID 11918303 başarıyla eklendi.\n",
      "Match ID 11918297 başarıyla eklendi.\n",
      "Match ID 11918298 başarıyla eklendi.\n",
      "Match ID 11918299 başarıyla eklendi.\n",
      "Match ID 11918300 başarıyla eklendi.\n",
      "Match ID 11918301 başarıyla eklendi.\n",
      "Match ID 11918302 başarıyla eklendi.\n"
     ]
    },
    {
     "name": "stderr",
     "output_type": "stream",
     "text": [
      "C:\\Users\\ahmet.yildirir\\AppData\\Local\\Programs\\Python\\Python312\\Lib\\site-packages\\django\\db\\models\\fields\\__init__.py:1595: RuntimeWarning: DateTimeField Match.startTimestamp received a naive datetime (2024-10-21 21:15:00) while time zone support is active.\n",
      "  warnings.warn(\n"
     ]
    },
    {
     "name": "stdout",
     "output_type": "stream",
     "text": [
      "Match ID 11918304 başarıyla eklendi.\n",
      "Match ID 11918576 başarıyla eklendi.\n",
      "Match ID 12448824 başarıyla eklendi.\n",
      "Match ID 12448818 başarıyla eklendi.\n",
      "Match ID 12448816 başarıyla eklendi.\n",
      "Match ID 12618968 başarıyla eklendi.\n",
      "Match ID 12493988 başarıyla eklendi.\n",
      "Match ID 12493980 başarıyla eklendi.\n",
      "Match ID 12493981 başarıyla eklendi.\n",
      "Match ID 12484262 başarıyla eklendi.\n",
      "Match ID 12484260 başarıyla eklendi.\n",
      "Match ID 12196970 başarıyla eklendi.\n",
      "Match ID 12196964 başarıyla eklendi.\n",
      "Match ID 11988896 başarıyla eklendi.\n",
      "Match ID 11988894 başarıyla eklendi.\n",
      "Match ID 11988643 başarıyla eklendi.\n",
      "Match ID 11988638 başarıyla eklendi.\n",
      "Match ID 11988636 başarıyla eklendi.\n",
      "Match ID 11922104 başarıyla eklendi.\n",
      "Match ID 11922106 başarıyla eklendi.\n",
      "Match ID 11922103 başarıyla eklendi.\n",
      "Match ID 11922108 başarıyla eklendi.\n",
      "Match ID 12961239 başarıyla eklendi.\n",
      "Match ID 12961240 başarıyla eklendi.\n",
      "Match ID 12961238 başarıyla eklendi.\n",
      "Match ID 12961237 başarıyla eklendi.\n",
      "Match ID 12961241 başarıyla eklendi.\n",
      "Match ID 12484439 başarıyla eklendi.\n",
      "Match ID 12484448 başarıyla eklendi.\n",
      "Match ID 12484445 başarıyla eklendi.\n",
      "Match ID 12960324 başarıyla eklendi.\n",
      "Match ID 12960323 başarıyla eklendi.\n",
      "Match ID 12960325 başarıyla eklendi.\n"
     ]
    },
    {
     "name": "stderr",
     "output_type": "stream",
     "text": [
      "C:\\Users\\ahmet.yildirir\\AppData\\Local\\Programs\\Python\\Python312\\Lib\\site-packages\\django\\db\\models\\fields\\__init__.py:1595: RuntimeWarning: DateTimeField Match.startTimestamp received a naive datetime (2024-10-21 03:00:00) while time zone support is active.\n",
      "  warnings.warn(\n"
     ]
    },
    {
     "name": "stdout",
     "output_type": "stream",
     "text": [
      "Match ID 12960326 başarıyla eklendi.\n"
     ]
    },
    {
     "name": "stderr",
     "output_type": "stream",
     "text": [
      "C:\\Users\\ahmet.yildirir\\AppData\\Local\\Programs\\Python\\Python312\\Lib\\site-packages\\django\\db\\models\\fields\\__init__.py:1595: RuntimeWarning: DateTimeField Match.startTimestamp received a naive datetime (2024-10-21 22:00:00) while time zone support is active.\n",
      "  warnings.warn(\n"
     ]
    },
    {
     "name": "stdout",
     "output_type": "stream",
     "text": [
      "Match ID 12960377 başarıyla eklendi.\n"
     ]
    },
    {
     "name": "stderr",
     "output_type": "stream",
     "text": [
      "C:\\Users\\ahmet.yildirir\\AppData\\Local\\Programs\\Python\\Python312\\Lib\\site-packages\\django\\db\\models\\fields\\__init__.py:1595: RuntimeWarning: DateTimeField Match.startTimestamp received a naive datetime (2024-10-22 01:00:00) while time zone support is active.\n",
      "  warnings.warn(\n"
     ]
    },
    {
     "name": "stdout",
     "output_type": "stream",
     "text": [
      "Match ID 12960378 başarıyla eklendi.\n",
      "Match ID 12872194 başarıyla eklendi.\n",
      "Match ID 12464034 başarıyla eklendi.\n",
      "Match ID 12464033 başarıyla eklendi.\n",
      "Match ID 12464080 başarıyla eklendi.\n",
      "Match ID 12464079 başarıyla eklendi.\n"
     ]
    },
    {
     "name": "stderr",
     "output_type": "stream",
     "text": [
      "C:\\Users\\ahmet.yildirir\\AppData\\Local\\Programs\\Python\\Python312\\Lib\\site-packages\\django\\db\\models\\fields\\__init__.py:1595: RuntimeWarning: DateTimeField Match.startTimestamp received a naive datetime (2024-10-22 19:45:00) while time zone support is active.\n",
      "  warnings.warn(\n"
     ]
    },
    {
     "name": "stdout",
     "output_type": "stream",
     "text": [
      "Match ID 12764370 başarıyla eklendi.\n",
      "Match ID 12763924 başarıyla eklendi.\n"
     ]
    },
    {
     "name": "stderr",
     "output_type": "stream",
     "text": [
      "C:\\Users\\ahmet.yildirir\\AppData\\Local\\Programs\\Python\\Python312\\Lib\\site-packages\\django\\db\\models\\fields\\__init__.py:1595: RuntimeWarning: DateTimeField Match.startTimestamp received a naive datetime (2024-10-22 22:00:00) while time zone support is active.\n",
      "  warnings.warn(\n"
     ]
    },
    {
     "name": "stdout",
     "output_type": "stream",
     "text": [
      "Match ID 12763955 başarıyla eklendi.\n",
      "Match ID 12763957 başarıyla eklendi.\n",
      "Match ID 12764255 başarıyla eklendi.\n",
      "Match ID 12764289 başarıyla eklendi.\n",
      "Match ID 12764392 başarıyla eklendi.\n",
      "Match ID 12764435 başarıyla eklendi.\n",
      "Match ID 12764511 başarıyla eklendi.\n",
      "Match ID 12437036 zaten mevcut, eklenmedi.\n",
      "Match ID 12437854 zaten mevcut, eklenmedi.\n",
      "Match ID 12499329 zaten mevcut, eklenmedi.\n"
     ]
    },
    {
     "name": "stderr",
     "output_type": "stream",
     "text": [
      "C:\\Users\\ahmet.yildirir\\AppData\\Local\\Programs\\Python\\Python312\\Lib\\site-packages\\django\\db\\models\\fields\\__init__.py:1595: RuntimeWarning: DateTimeField Match.startTimestamp received a naive datetime (2024-10-23 03:30:00) while time zone support is active.\n",
      "  warnings.warn(\n"
     ]
    },
    {
     "name": "stdout",
     "output_type": "stream",
     "text": [
      "Match ID 12375391 başarıyla eklendi.\n"
     ]
    },
    {
     "name": "stderr",
     "output_type": "stream",
     "text": [
      "C:\\Users\\ahmet.yildirir\\AppData\\Local\\Programs\\Python\\Python312\\Lib\\site-packages\\django\\db\\models\\fields\\__init__.py:1595: RuntimeWarning: DateTimeField Match.startTimestamp received a naive datetime (2024-10-23 01:30:00) while time zone support is active.\n",
      "  warnings.warn(\n"
     ]
    },
    {
     "name": "stdout",
     "output_type": "stream",
     "text": [
      "Match ID 12946543 başarıyla eklendi.\n",
      "Match ID 12530885 zaten mevcut, eklenmedi.\n",
      "Match ID 12792310 zaten mevcut, eklenmedi.\n",
      "Match ID 12796564 zaten mevcut, eklenmedi.\n",
      "Match ID 12796563 zaten mevcut, eklenmedi.\n",
      "Match ID 12792315 zaten mevcut, eklenmedi.\n",
      "Match ID 12792322 zaten mevcut, eklenmedi.\n",
      "Match ID 12792314 zaten mevcut, eklenmedi.\n"
     ]
    },
    {
     "name": "stderr",
     "output_type": "stream",
     "text": [
      "C:\\Users\\ahmet.yildirir\\AppData\\Local\\Programs\\Python\\Python312\\Lib\\site-packages\\django\\db\\models\\fields\\__init__.py:1595: RuntimeWarning: DateTimeField Match.startTimestamp received a naive datetime (2024-10-22 17:00:00) while time zone support is active.\n",
      "  warnings.warn(\n"
     ]
    },
    {
     "name": "stdout",
     "output_type": "stream",
     "text": [
      "Match ID 12796562 başarıyla eklendi.\n",
      "Match ID 12792318 başarıyla eklendi.\n",
      "Match ID 12796561 başarıyla eklendi.\n"
     ]
    },
    {
     "name": "stderr",
     "output_type": "stream",
     "text": [
      "C:\\Users\\ahmet.yildirir\\AppData\\Local\\Programs\\Python\\Python312\\Lib\\site-packages\\django\\db\\models\\fields\\__init__.py:1595: RuntimeWarning: DateTimeField Match.startTimestamp received a naive datetime (2024-10-23 12:00:00) while time zone support is active.\n",
      "  warnings.warn(\n"
     ]
    },
    {
     "name": "stdout",
     "output_type": "stream",
     "text": [
      "Match ID 12792317 başarıyla eklendi.\n"
     ]
    },
    {
     "name": "stderr",
     "output_type": "stream",
     "text": [
      "C:\\Users\\ahmet.yildirir\\AppData\\Local\\Programs\\Python\\Python312\\Lib\\site-packages\\django\\db\\models\\fields\\__init__.py:1595: RuntimeWarning: DateTimeField Match.startTimestamp received a naive datetime (2024-10-23 13:00:00) while time zone support is active.\n",
      "  warnings.warn(\n"
     ]
    },
    {
     "name": "stdout",
     "output_type": "stream",
     "text": [
      "Match ID 12792328 başarıyla eklendi.\n"
     ]
    },
    {
     "name": "stderr",
     "output_type": "stream",
     "text": [
      "C:\\Users\\ahmet.yildirir\\AppData\\Local\\Programs\\Python\\Python312\\Lib\\site-packages\\django\\db\\models\\fields\\__init__.py:1595: RuntimeWarning: DateTimeField Match.startTimestamp received a naive datetime (2024-10-23 13:30:00) while time zone support is active.\n",
      "  warnings.warn(\n"
     ]
    },
    {
     "name": "stdout",
     "output_type": "stream",
     "text": [
      "Match ID 12792325 başarıyla eklendi.\n"
     ]
    },
    {
     "name": "stderr",
     "output_type": "stream",
     "text": [
      "C:\\Users\\ahmet.yildirir\\AppData\\Local\\Programs\\Python\\Python312\\Lib\\site-packages\\django\\db\\models\\fields\\__init__.py:1595: RuntimeWarning: DateTimeField Match.startTimestamp received a naive datetime (2024-10-23 15:00:00) while time zone support is active.\n",
      "  warnings.warn(\n"
     ]
    },
    {
     "name": "stdout",
     "output_type": "stream",
     "text": [
      "Match ID 12796558 başarıyla eklendi.\n"
     ]
    },
    {
     "name": "stderr",
     "output_type": "stream",
     "text": [
      "C:\\Users\\ahmet.yildirir\\AppData\\Local\\Programs\\Python\\Python312\\Lib\\site-packages\\django\\db\\models\\fields\\__init__.py:1595: RuntimeWarning: DateTimeField Match.startTimestamp received a naive datetime (2024-10-23 16:30:00) while time zone support is active.\n",
      "  warnings.warn(\n"
     ]
    },
    {
     "name": "stdout",
     "output_type": "stream",
     "text": [
      "Match ID 12796556 başarıyla eklendi.\n",
      "Match ID 12945319 başarıyla eklendi.\n"
     ]
    },
    {
     "name": "stderr",
     "output_type": "stream",
     "text": [
      "C:\\Users\\ahmet.yildirir\\AppData\\Local\\Programs\\Python\\Python312\\Lib\\site-packages\\django\\db\\models\\fields\\__init__.py:1595: RuntimeWarning: DateTimeField Match.startTimestamp received a naive datetime (2024-10-22 19:00:00) while time zone support is active.\n",
      "  warnings.warn(\n"
     ]
    },
    {
     "name": "stdout",
     "output_type": "stream",
     "text": [
      "Match ID 12945342 başarıyla eklendi.\n",
      "Match ID 12945334 başarıyla eklendi.\n",
      "Match ID 12945344 başarıyla eklendi.\n"
     ]
    },
    {
     "name": "stderr",
     "output_type": "stream",
     "text": [
      "C:\\Users\\ahmet.yildirir\\AppData\\Local\\Programs\\Python\\Python312\\Lib\\site-packages\\django\\db\\models\\fields\\__init__.py:1595: RuntimeWarning: DateTimeField Match.startTimestamp received a naive datetime (2024-10-23 14:00:00) while time zone support is active.\n",
      "  warnings.warn(\n"
     ]
    },
    {
     "name": "stdout",
     "output_type": "stream",
     "text": [
      "Match ID 12945315 başarıyla eklendi.\n",
      "Match ID 12945356 başarıyla eklendi.\n",
      "Match ID 12945332 başarıyla eklendi.\n"
     ]
    },
    {
     "name": "stderr",
     "output_type": "stream",
     "text": [
      "C:\\Users\\ahmet.yildirir\\AppData\\Local\\Programs\\Python\\Python312\\Lib\\site-packages\\django\\db\\models\\fields\\__init__.py:1595: RuntimeWarning: DateTimeField Match.startTimestamp received a naive datetime (2024-10-23 04:00:00) while time zone support is active.\n",
      "  warnings.warn(\n"
     ]
    },
    {
     "name": "stdout",
     "output_type": "stream",
     "text": [
      "Match ID 12420584 başarıyla eklendi.\n"
     ]
    },
    {
     "name": "stderr",
     "output_type": "stream",
     "text": [
      "C:\\Users\\ahmet.yildirir\\AppData\\Local\\Programs\\Python\\Python312\\Lib\\site-packages\\django\\db\\models\\fields\\__init__.py:1595: RuntimeWarning: DateTimeField Match.startTimestamp received a naive datetime (2024-10-23 04:05:00) while time zone support is active.\n",
      "  warnings.warn(\n"
     ]
    },
    {
     "name": "stdout",
     "output_type": "stream",
     "text": [
      "Match ID 12420591 başarıyla eklendi.\n"
     ]
    },
    {
     "name": "stderr",
     "output_type": "stream",
     "text": [
      "C:\\Users\\ahmet.yildirir\\AppData\\Local\\Programs\\Python\\Python312\\Lib\\site-packages\\django\\db\\models\\fields\\__init__.py:1595: RuntimeWarning: DateTimeField Match.startTimestamp received a naive datetime (2024-10-23 06:05:00) while time zone support is active.\n",
      "  warnings.warn(\n"
     ]
    },
    {
     "name": "stdout",
     "output_type": "stream",
     "text": [
      "Match ID 12420589 başarıyla eklendi.\n"
     ]
    },
    {
     "name": "stderr",
     "output_type": "stream",
     "text": [
      "C:\\Users\\ahmet.yildirir\\AppData\\Local\\Programs\\Python\\Python312\\Lib\\site-packages\\django\\db\\models\\fields\\__init__.py:1595: RuntimeWarning: DateTimeField Match.startTimestamp received a naive datetime (2024-10-23 06:06:00) while time zone support is active.\n",
      "  warnings.warn(\n"
     ]
    },
    {
     "name": "stdout",
     "output_type": "stream",
     "text": [
      "Match ID 12420590 başarıyla eklendi.\n",
      "Match ID 12420445 zaten mevcut, eklenmedi.\n"
     ]
    },
    {
     "name": "stderr",
     "output_type": "stream",
     "text": [
      "C:\\Users\\ahmet.yildirir\\AppData\\Local\\Programs\\Python\\Python312\\Lib\\site-packages\\django\\db\\models\\fields\\__init__.py:1595: RuntimeWarning: DateTimeField Match.startTimestamp received a naive datetime (2024-10-23 02:30:00) while time zone support is active.\n",
      "  warnings.warn(\n"
     ]
    },
    {
     "name": "stdout",
     "output_type": "stream",
     "text": [
      "Match ID 13008795 başarıyla eklendi.\n"
     ]
    },
    {
     "name": "stderr",
     "output_type": "stream",
     "text": [
      "C:\\Users\\ahmet.yildirir\\AppData\\Local\\Programs\\Python\\Python312\\Lib\\site-packages\\django\\db\\models\\fields\\__init__.py:1595: RuntimeWarning: DateTimeField Match.startTimestamp received a naive datetime (2024-10-22 21:45:00) while time zone support is active.\n",
      "  warnings.warn(\n"
     ]
    },
    {
     "name": "stdout",
     "output_type": "stream",
     "text": [
      "Match ID 12468936 başarıyla eklendi.\n",
      "Match ID 12468932 başarıyla eklendi.\n",
      "Match ID 12468935 başarıyla eklendi.\n",
      "Match ID 12468927 başarıyla eklendi.\n",
      "Match ID 12468924 başarıyla eklendi.\n",
      "Match ID 12468923 başarıyla eklendi.\n",
      "Match ID 12468925 başarıyla eklendi.\n",
      "Match ID 12467688 zaten mevcut, eklenmedi.\n"
     ]
    },
    {
     "name": "stderr",
     "output_type": "stream",
     "text": [
      "C:\\Users\\ahmet.yildirir\\AppData\\Local\\Programs\\Python\\Python312\\Lib\\site-packages\\django\\db\\models\\fields\\__init__.py:1595: RuntimeWarning: DateTimeField Match.startTimestamp received a naive datetime (2024-10-22 20:00:00) while time zone support is active.\n",
      "  warnings.warn(\n"
     ]
    },
    {
     "name": "stdout",
     "output_type": "stream",
     "text": [
      "Match ID 12594767 başarıyla eklendi.\n",
      "Match ID 12467681 başarıyla eklendi.\n",
      "Match ID 12853214 zaten mevcut, eklenmedi.\n"
     ]
    },
    {
     "name": "stderr",
     "output_type": "stream",
     "text": [
      "C:\\Users\\ahmet.yildirir\\AppData\\Local\\Programs\\Python\\Python312\\Lib\\site-packages\\django\\db\\models\\fields\\__init__.py:1595: RuntimeWarning: DateTimeField Match.startTimestamp received a naive datetime (2024-10-22 20:30:00) while time zone support is active.\n",
      "  warnings.warn(\n"
     ]
    },
    {
     "name": "stdout",
     "output_type": "stream",
     "text": [
      "Match ID 12991247 başarıyla eklendi.\n",
      "Match ID 12146514 zaten mevcut, eklenmedi.\n"
     ]
    },
    {
     "name": "stderr",
     "output_type": "stream",
     "text": [
      "C:\\Users\\ahmet.yildirir\\AppData\\Local\\Programs\\Python\\Python312\\Lib\\site-packages\\django\\db\\models\\fields\\__init__.py:1595: RuntimeWarning: DateTimeField Match.startTimestamp received a naive datetime (2024-10-23 01:00:00) while time zone support is active.\n",
      "  warnings.warn(\n"
     ]
    },
    {
     "name": "stdout",
     "output_type": "stream",
     "text": [
      "Match ID 12146515 başarıyla eklendi.\n",
      "Match ID 12146513 başarıyla eklendi.\n",
      "Match ID 12146512 başarıyla eklendi.\n",
      "Match ID 12146508 başarıyla eklendi.\n",
      "Match ID 12445071 zaten mevcut, eklenmedi.\n",
      "Match ID 12445073 zaten mevcut, eklenmedi.\n",
      "Match ID 12445068 zaten mevcut, eklenmedi.\n",
      "Match ID 12445072 zaten mevcut, eklenmedi.\n"
     ]
    },
    {
     "name": "stderr",
     "output_type": "stream",
     "text": [
      "C:\\Users\\ahmet.yildirir\\AppData\\Local\\Programs\\Python\\Python312\\Lib\\site-packages\\django\\db\\models\\fields\\__init__.py:1595: RuntimeWarning: DateTimeField Match.startTimestamp received a naive datetime (2024-10-22 21:00:00) while time zone support is active.\n",
      "  warnings.warn(\n"
     ]
    },
    {
     "name": "stdout",
     "output_type": "stream",
     "text": [
      "Match ID 12445080 başarıyla eklendi.\n",
      "Match ID 12445069 başarıyla eklendi.\n",
      "Match ID 12445074 başarıyla eklendi.\n",
      "Match ID 12445075 başarıyla eklendi.\n",
      "Match ID 12596630 zaten mevcut, eklenmedi.\n",
      "Match ID 12957129 zaten mevcut, eklenmedi.\n"
     ]
    },
    {
     "name": "stderr",
     "output_type": "stream",
     "text": [
      "C:\\Users\\ahmet.yildirir\\AppData\\Local\\Programs\\Python\\Python312\\Lib\\site-packages\\django\\db\\models\\fields\\__init__.py:1595: RuntimeWarning: DateTimeField Match.startTimestamp received a naive datetime (2024-10-22 19:30:00) while time zone support is active.\n",
      "  warnings.warn(\n"
     ]
    },
    {
     "name": "stdout",
     "output_type": "stream",
     "text": [
      "Match ID 12957188 başarıyla eklendi.\n",
      "Match ID 12402303 zaten mevcut, eklenmedi.\n",
      "Match ID 12407819 zaten mevcut, eklenmedi.\n",
      "Match ID 12464774 başarıyla eklendi.\n",
      "Match ID 12464779 başarıyla eklendi.\n",
      "Match ID 12464787 başarıyla eklendi.\n",
      "Match ID 12464784 başarıyla eklendi.\n",
      "Match ID 12464791 başarıyla eklendi.\n",
      "Match ID 12464790 başarıyla eklendi.\n",
      "Match ID 12464792 başarıyla eklendi.\n",
      "Match ID 12464799 başarıyla eklendi.\n",
      "Match ID 12464796 başarıyla eklendi.\n",
      "Match ID 12464794 başarıyla eklendi.\n",
      "Match ID 12464793 başarıyla eklendi.\n",
      "Match ID 12464801 başarıyla eklendi.\n",
      "Match ID 12468222 başarıyla eklendi.\n",
      "Match ID 12468221 başarıyla eklendi.\n",
      "Match ID 12468216 başarıyla eklendi.\n",
      "Match ID 12468220 başarıyla eklendi.\n",
      "Match ID 12468213 başarıyla eklendi.\n",
      "Match ID 12468219 başarıyla eklendi.\n",
      "Match ID 12468218 başarıyla eklendi.\n",
      "Match ID 12468212 başarıyla eklendi.\n",
      "Match ID 12468214 başarıyla eklendi.\n",
      "Match ID 12468211 başarıyla eklendi.\n",
      "Match ID 12468217 başarıyla eklendi.\n",
      "Match ID 12468215 başarıyla eklendi.\n",
      "Match ID 12991460 zaten mevcut, eklenmedi.\n",
      "Match ID 12991463 zaten mevcut, eklenmedi.\n",
      "Match ID 12744961 zaten mevcut, eklenmedi.\n",
      "Match ID 12744962 başarıyla eklendi.\n",
      "Match ID 12004431 başarıyla eklendi.\n",
      "Match ID 12004606 başarıyla eklendi.\n",
      "Match ID 12806992 başarıyla eklendi.\n",
      "Match ID 12831489 başarıyla eklendi.\n"
     ]
    },
    {
     "name": "stderr",
     "output_type": "stream",
     "text": [
      "C:\\Users\\ahmet.yildirir\\AppData\\Local\\Programs\\Python\\Python312\\Lib\\site-packages\\django\\db\\models\\fields\\__init__.py:1595: RuntimeWarning: DateTimeField Match.startTimestamp received a naive datetime (2024-10-22 23:15:00) while time zone support is active.\n",
      "  warnings.warn(\n"
     ]
    },
    {
     "name": "stdout",
     "output_type": "stream",
     "text": [
      "Match ID 12831496 başarıyla eklendi.\n"
     ]
    },
    {
     "name": "stderr",
     "output_type": "stream",
     "text": [
      "C:\\Users\\ahmet.yildirir\\AppData\\Local\\Programs\\Python\\Python312\\Lib\\site-packages\\django\\db\\models\\fields\\__init__.py:1595: RuntimeWarning: DateTimeField Match.startTimestamp received a naive datetime (2024-10-23 02:00:00) while time zone support is active.\n",
      "  warnings.warn(\n"
     ]
    },
    {
     "name": "stdout",
     "output_type": "stream",
     "text": [
      "Match ID 12831493 başarıyla eklendi.\n"
     ]
    },
    {
     "name": "stderr",
     "output_type": "stream",
     "text": [
      "C:\\Users\\ahmet.yildirir\\AppData\\Local\\Programs\\Python\\Python312\\Lib\\site-packages\\django\\db\\models\\fields\\__init__.py:1595: RuntimeWarning: DateTimeField Match.startTimestamp received a naive datetime (2024-10-23 04:15:00) while time zone support is active.\n",
      "  warnings.warn(\n"
     ]
    },
    {
     "name": "stdout",
     "output_type": "stream",
     "text": [
      "Match ID 12831482 başarıyla eklendi.\n",
      "Match ID 12489721 zaten mevcut, eklenmedi.\n",
      "Match ID 12489722 zaten mevcut, eklenmedi.\n",
      "Match ID 11907436 zaten mevcut, eklenmedi.\n",
      "Match ID 11907438 zaten mevcut, eklenmedi.\n",
      "Match ID 11907437 zaten mevcut, eklenmedi.\n",
      "Match ID 12661959 başarıyla eklendi.\n",
      "Match ID 12853083 zaten mevcut, eklenmedi.\n"
     ]
    },
    {
     "name": "stderr",
     "output_type": "stream",
     "text": [
      "C:\\Users\\ahmet.yildirir\\AppData\\Local\\Programs\\Python\\Python312\\Lib\\site-packages\\django\\db\\models\\fields\\__init__.py:1595: RuntimeWarning: DateTimeField Match.startTimestamp received a naive datetime (2024-10-22 18:00:00) while time zone support is active.\n",
      "  warnings.warn(\n"
     ]
    },
    {
     "name": "stdout",
     "output_type": "stream",
     "text": [
      "Match ID 12983280 başarıyla eklendi.\n",
      "Match ID 12983279 başarıyla eklendi.\n",
      "Match ID 12967299 zaten mevcut, eklenmedi.\n",
      "Match ID 12966692 zaten mevcut, eklenmedi.\n",
      "Match ID 12701489 zaten mevcut, eklenmedi.\n",
      "Match ID 12701488 zaten mevcut, eklenmedi.\n",
      "Match ID 12701483 zaten mevcut, eklenmedi.\n",
      "Match ID 12701486 zaten mevcut, eklenmedi.\n",
      "Match ID 12701492 başarıyla eklendi.\n",
      "Match ID 12701494 başarıyla eklendi.\n",
      "Match ID 12701461 zaten mevcut, eklenmedi.\n",
      "Match ID 12701470 zaten mevcut, eklenmedi.\n",
      "Match ID 12701466 zaten mevcut, eklenmedi.\n",
      "Match ID 12701471 zaten mevcut, eklenmedi.\n",
      "Match ID 12701472 başarıyla eklendi.\n",
      "Match ID 12701469 başarıyla eklendi.\n",
      "Match ID 12710460 başarıyla eklendi.\n",
      "Match ID 12701582 başarıyla eklendi.\n",
      "Match ID 12701591 başarıyla eklendi.\n",
      "Match ID 12702190 başarıyla eklendi.\n",
      "Match ID 12701607 başarıyla eklendi.\n",
      "Match ID 12794864 başarıyla eklendi.\n",
      "Match ID 12792338 zaten mevcut, eklenmedi.\n",
      "Match ID 12753041 başarıyla eklendi.\n",
      "Match ID 12753039 başarıyla eklendi.\n"
     ]
    },
    {
     "name": "stderr",
     "output_type": "stream",
     "text": [
      "C:\\Users\\ahmet.yildirir\\AppData\\Local\\Programs\\Python\\Python312\\Lib\\site-packages\\django\\db\\models\\fields\\__init__.py:1595: RuntimeWarning: DateTimeField Match.startTimestamp received a naive datetime (2024-10-23 03:00:00) while time zone support is active.\n",
      "  warnings.warn(\n"
     ]
    },
    {
     "name": "stdout",
     "output_type": "stream",
     "text": [
      "Match ID 12753042 başarıyla eklendi.\n",
      "Match ID 12965447 zaten mevcut, eklenmedi.\n",
      "Match ID 12425131 zaten mevcut, eklenmedi.\n",
      "Match ID 12532092 başarıyla eklendi.\n",
      "Match ID 12532097 başarıyla eklendi.\n",
      "Match ID 12532093 başarıyla eklendi.\n",
      "Match ID 12532088 başarıyla eklendi.\n",
      "Match ID 12532094 başarıyla eklendi.\n",
      "Match ID 12532102 başarıyla eklendi.\n",
      "Match ID 12535339 başarıyla eklendi.\n",
      "Match ID 12532098 başarıyla eklendi.\n",
      "Match ID 12447869 zaten mevcut, eklenmedi.\n",
      "Match ID 12497316 zaten mevcut, eklenmedi.\n",
      "Match ID 12904825 zaten mevcut, eklenmedi.\n"
     ]
    },
    {
     "name": "stderr",
     "output_type": "stream",
     "text": [
      "C:\\Users\\ahmet.yildirir\\AppData\\Local\\Programs\\Python\\Python312\\Lib\\site-packages\\django\\db\\models\\fields\\__init__.py:1595: RuntimeWarning: DateTimeField Match.startTimestamp received a naive datetime (2024-10-22 18:30:00) while time zone support is active.\n",
      "  warnings.warn(\n"
     ]
    },
    {
     "name": "stdout",
     "output_type": "stream",
     "text": [
      "Match ID 12855335 başarıyla eklendi.\n",
      "Match ID 12526428 başarıyla eklendi.\n",
      "Match ID 12526425 başarıyla eklendi.\n",
      "Match ID 12526424 başarıyla eklendi.\n",
      "Match ID 12526423 başarıyla eklendi.\n",
      "Match ID 12526421 başarıyla eklendi.\n",
      "Match ID 12526418 başarıyla eklendi.\n",
      "Match ID 11990379 başarıyla eklendi.\n",
      "Match ID 11990378 başarıyla eklendi.\n",
      "Match ID 13016256 başarıyla eklendi.\n",
      "Match ID 12525935 başarıyla eklendi.\n",
      "Match ID 12525937 başarıyla eklendi.\n",
      "Match ID 12525939 başarıyla eklendi.\n",
      "Match ID 12525938 başarıyla eklendi.\n",
      "Match ID 12525934 başarıyla eklendi.\n",
      "Match ID 12460022 başarıyla eklendi.\n",
      "Match ID 12460019 başarıyla eklendi.\n",
      "Match ID 12460021 başarıyla eklendi.\n",
      "Match ID 12460026 başarıyla eklendi.\n",
      "Match ID 12460029 başarıyla eklendi.\n",
      "Match ID 12460024 başarıyla eklendi.\n",
      "Match ID 12460016 başarıyla eklendi.\n",
      "Match ID 12460020 başarıyla eklendi.\n",
      "Match ID 12460023 başarıyla eklendi.\n",
      "Match ID 12819281 zaten mevcut, eklenmedi.\n"
     ]
    },
    {
     "name": "stderr",
     "output_type": "stream",
     "text": [
      "C:\\Users\\ahmet.yildirir\\AppData\\Local\\Programs\\Python\\Python312\\Lib\\site-packages\\django\\db\\models\\fields\\__init__.py:1595: RuntimeWarning: DateTimeField Match.startTimestamp received a naive datetime (2024-10-23 11:30:00) while time zone support is active.\n",
      "  warnings.warn(\n"
     ]
    },
    {
     "name": "stdout",
     "output_type": "stream",
     "text": [
      "Match ID 12650999 başarıyla eklendi.\n",
      "Match ID 12651008 başarıyla eklendi.\n",
      "Match ID 12545562 zaten mevcut, eklenmedi.\n",
      "Match ID 12545220 zaten mevcut, eklenmedi.\n",
      "Match ID 12545217 zaten mevcut, eklenmedi.\n",
      "Match ID 12598366 zaten mevcut, eklenmedi.\n",
      "Match ID 12598368 zaten mevcut, eklenmedi.\n",
      "Match ID 12817284 başarıyla eklendi.\n",
      "Match ID 12852980 zaten mevcut, eklenmedi.\n",
      "Match ID 12855815 başarıyla eklendi.\n",
      "Match ID 12653643 zaten mevcut, eklenmedi.\n",
      "Match ID 12853213 başarıyla eklendi.\n",
      "Match ID 12969180 başarıyla eklendi.\n",
      "Match ID 12969186 başarıyla eklendi.\n",
      "Match ID 12969183 başarıyla eklendi.\n",
      "Match ID 12969184 başarıyla eklendi.\n",
      "Match ID 12790838 başarıyla eklendi.\n",
      "Match ID 11918303 zaten mevcut, eklenmedi.\n",
      "Match ID 11918297 zaten mevcut, eklenmedi.\n",
      "Match ID 11918298 zaten mevcut, eklenmedi.\n",
      "Match ID 11918299 zaten mevcut, eklenmedi.\n",
      "Match ID 11918300 zaten mevcut, eklenmedi.\n",
      "Match ID 11918301 zaten mevcut, eklenmedi.\n",
      "Match ID 11918302 zaten mevcut, eklenmedi.\n",
      "Match ID 11918304 zaten mevcut, eklenmedi.\n",
      "Match ID 12448816 zaten mevcut, eklenmedi.\n",
      "Match ID 12907689 başarıyla eklendi.\n",
      "Match ID 12618968 zaten mevcut, eklenmedi.\n",
      "Match ID 12493980 zaten mevcut, eklenmedi.\n",
      "Match ID 12493981 zaten mevcut, eklenmedi.\n",
      "Match ID 12860134 başarıyla eklendi.\n",
      "Match ID 12196964 zaten mevcut, eklenmedi.\n",
      "Match ID 12196971 başarıyla eklendi.\n",
      "Match ID 12484445 zaten mevcut, eklenmedi.\n",
      "Match ID 12960377 zaten mevcut, eklenmedi.\n",
      "Match ID 12960378 zaten mevcut, eklenmedi.\n",
      "Match ID 12872194 zaten mevcut, eklenmedi.\n",
      "Match ID 12872192 başarıyla eklendi.\n",
      "Match ID 12872190 başarıyla eklendi.\n",
      "Match ID 12464047 başarıyla eklendi.\n",
      "Match ID 12464084 başarıyla eklendi.\n"
     ]
    },
    {
     "name": "stderr",
     "output_type": "stream",
     "text": [
      "C:\\Users\\ahmet.yildirir\\AppData\\Local\\Programs\\Python\\Python312\\Lib\\site-packages\\django\\db\\models\\fields\\__init__.py:1595: RuntimeWarning: DateTimeField Match.startTimestamp received a naive datetime (2024-10-22 23:00:00) while time zone support is active.\n",
      "  warnings.warn(\n"
     ]
    },
    {
     "name": "stdout",
     "output_type": "stream",
     "text": [
      "Match ID 12464043 başarıyla eklendi.\n",
      "Match ID 12464038 başarıyla eklendi.\n",
      "İşlemler bitti\n"
     ]
    }
   ],
   "source": [
    "from basemodels.models import Tournament, Season, Team,Match\n",
    "from basemodels.models import FikstureModelData\n",
    "from datetime import datetime, timedelta\n",
    "\n",
    "class SofascoreAPI:\n",
    "    def __init__(self):\n",
    "        pass\n",
    "\n",
    "    def fetch_data(self):\n",
    "        data = FikstureModelData.objects.all().values()\n",
    "        data_list = list(data)\n",
    "        df = pd.DataFrame(data_list)\n",
    "        df_exploded = df.explode('data')\n",
    "        expanded_data = pd.json_normalize(df_exploded['data'])\n",
    "        expanded_data['tarih'] = list(df_exploded['tarih'])\n",
    "        veri = expanded_data.copy()\n",
    "        veri.columns = [item.replace(\".\", \"_\") for item in veri.columns]\n",
    "        return veri\n",
    "\n",
    "    def tournament_data(self):\n",
    "        verim = self.fetch_data()\n",
    "        if verim is None:\n",
    "            raise ValueError(\"Veri işlenmedi. Önce 'process_data()' metodunu çalıştırın.\")\n",
    "        \n",
    "        # Aynı uniqueTournament_id'ye sahip olanları tekrar kontrol et\n",
    "        verim = verim.drop_duplicates(\"tournament_uniqueTournament_id\")\n",
    "        \n",
    "        cols = [\n",
    "            \"tournament_uniqueTournament_id\", \"tournament_name\", \"tournament_slug\", \"tournament_category_name\",\n",
    "            \"tournament_category_slug\", \"tournament_uniqueTournament_category_id\", \n",
    "            \"tournament_uniqueTournament_hasEventPlayerStatistics\", \"tournament_id\", \"tournament_isGroup\", \n",
    "            \"tournament_uniqueTournament_hasPerformanceGraphFeature\"\n",
    "        ]\n",
    "        \n",
    "        for col in cols:\n",
    "            if col not in verim.columns:\n",
    "                verim.loc[:, col] = 0\n",
    "\n",
    "        verim = verim[cols]\n",
    "\n",
    "        for _, row in verim.iterrows():\n",
    "            tournament_id = row['tournament_uniqueTournament_id']\n",
    "            \n",
    "            if pd.isna(tournament_id):\n",
    "                print(f\"Geçersiz tournament_uniqueTournament_id: {tournament_id}, atlanıyor.\")\n",
    "                continue\n",
    "        \n",
    "            if not Tournament.objects.filter(tournament_id=tournament_id).exists():\n",
    "                Tournament.objects.create(\n",
    "                    tournament_id=row['tournament_uniqueTournament_id'],\n",
    "                    tournament_name=row['tournament_name'],\n",
    "                    tournament_slug=row['tournament_slug'],\n",
    "                    tournament_category_name=row['tournament_category_name'],\n",
    "                    tournament_category_slug=row['tournament_category_slug'],\n",
    "                    tournament_uniqueTournament_category_id=row['tournament_uniqueTournament_category_id'],\n",
    "                    tournament_model_id=row['tournament_id'],\n",
    "                    tournament_isGroup=row['tournament_isGroup'] if pd.notna(row['tournament_isGroup']) else False,\n",
    "                    tournament_uniqueTournament_hasPerformanceGraphFeature=row['tournament_uniqueTournament_hasPerformanceGraphFeature'] if pd.notna(row['tournament_uniqueTournament_hasPerformanceGraphFeature']) else False\n",
    "                )\n",
    "                print(f\"Tournament ID {tournament_id} başarıyla eklendi.\")\n",
    "            else:\n",
    "                print(f\"Tournament ID {tournament_id} zaten mevcut, eklenmedi.\")\n",
    "\n",
    "    def season_data(self):\n",
    "        verim = self.fetch_data()\n",
    "        if verim is None:\n",
    "            raise ValueError(\"Veri işlenmedi. Önce 'process_data()' metodunu çalıştırın.\")\n",
    "        \n",
    "        verim = verim.drop_duplicates(\"season_id\")\n",
    "        \n",
    "        season_cols = [\"season_id\", \"season_name\", \"season_year\",\"tournament_uniqueTournament_id\"]\n",
    "\n",
    "        for col in season_cols:\n",
    "            if col not in verim.columns:\n",
    "                verim.loc[:, col] = 0\n",
    "\n",
    "        verim = verim[season_cols]\n",
    "\n",
    "        for _, row in verim.iterrows():\n",
    "            season_id = row['season_id']\n",
    "            tournament_id = row.get('tournament_uniqueTournament_id')\n",
    "    \n",
    "            if pd.isna(season_id) or pd.isna(tournament_id):\n",
    "                print(f\"Geçersiz season_id veya tournament_id: Season ID={season_id}, Tournament ID={tournament_id}. Atlanıyor.\")\n",
    "                continue\n",
    "    \n",
    "            if not Season.objects.filter(season_id=season_id).exists():\n",
    "                tournament_instance = Tournament.objects.filter(tournament_id=tournament_id).first()\n",
    "                \n",
    "                if tournament_instance:\n",
    "                    Season.objects.create(\n",
    "                        season_id=row['season_id'],\n",
    "                        season_name=row['season_name'],\n",
    "                        season_year=row['season_year'],\n",
    "                        tournament=tournament_instance  # Doğru sütun adı burada kullanılıyor\n",
    "                    )\n",
    "                    print(f\"Season ID {season_id} başarıyla eklendi.\")\n",
    "                else:\n",
    "                    print(f\"Tournament ID {tournament_id} bulunamadı, Season ID {season_id} eklenemedi.\")\n",
    "            else:\n",
    "                print(f\"Season ID {season_id} zaten mevcut, eklenmedi.\")\n",
    "    \n",
    "   \n",
    "    def team_data(self):\n",
    "\n",
    "        data = self.fetch_data()\n",
    "        homecols = [\n",
    "                    \"homeTeam_id\", \"homeTeam_name\", \"homeTeam_slug\", \"homeTeam_shortName\",\n",
    "                    \"homeTeam_nameCode\", \"homeTeam_national\", \"tournament_uniqueTournament_id\", \"season_id\"\n",
    "                ]\n",
    "        \n",
    "        awaycols = [\n",
    "                    \"awayTeam_id\", \"awayTeam_name\", \"awayTeam_slug\", \"awayTeam_shortName\",\n",
    "                    \"awayTeam_nameCode\", \"awayTeam_national\", \"tournament_uniqueTournament_id\", \"season_id\"\n",
    "                ]\n",
    "        \n",
    "        # Home takımı için veri seçimi ve kolon isimlerinin ayarlanması\n",
    "        homedata = data[homecols]\n",
    "        homedata.columns = [\"team_id\", \"team_name\", \"team_slug\", \"team_shortName\",\n",
    "                                       \"team_nameCode\", \"team_national\", \"tournament_id\", \"season_id\"]\n",
    "        \n",
    "        # Away takımı için veri seçimi ve kolon isimlerinin ayarlanması\n",
    "        awaydata = data[awaycols]\n",
    "        awaydata.columns  = [\"team_id\", \"team_name\", \"team_slug\", \"team_shortName\",\n",
    "                                       \"team_nameCode\", \"team_national\", \"tournament_id\", \"season_id\"]\n",
    "        \n",
    "        # Home ve Away takımları birleştirme\n",
    "        teamdata = pd.concat([homedata, awaydata])\n",
    "        teamdata = teamdata.drop_duplicates(subset=[\"team_id\", \"tournament_id\", \"season_id\"])\n",
    "       \n",
    "        for _, row in teamdata.iterrows():\n",
    "            team_id = row['team_id']\n",
    "            tournament_id = row['tournament_id']\n",
    "            season_id = row['season_id']\n",
    "            \n",
    "            # Geçersiz veya eksik id'leri atla\n",
    "            if pd.isna(team_id) or pd.isna(tournament_id) or pd.isna(season_id):\n",
    "                print(f\"Geçersiz değer: Team ID={team_id}, Tournament ID={tournament_id}, Season ID={season_id}. Atlanıyor.\")\n",
    "                continue\n",
    "\n",
    "            # İlgili tournament ve season nesnelerini getir\n",
    "            tournament_instance = Tournament.objects.filter(tournament_id=tournament_id).first()\n",
    "            season_instance = Season.objects.filter(season_id=season_id).first()\n",
    "\n",
    "            if tournament_instance and season_instance:\n",
    "                # Takımın veritabanında var olup olmadığını kontrol et, yoksa oluştur\n",
    "                if not Team.objects.filter(team_id=team_id, tournament=tournament_instance, season=season_instance).exists():\n",
    "                    Team.objects.create(\n",
    "                        team_id=team_id,\n",
    "                        team_name=row['team_name'],\n",
    "                        team_slug=row['team_slug'],\n",
    "                        team_shortName=row['team_shortName'],\n",
    "                        team_nameCode=row['team_nameCode'],\n",
    "                        team_national=row['team_national'],\n",
    "                        tournament=tournament_instance,  # ForeignKey olan alanlar\n",
    "                        season=season_instance           # ForeignKey olan alanlar\n",
    "                    )\n",
    "                    print(f\"Team ID {team_id} başarıyla eklendi.\")\n",
    "                else:\n",
    "                    print(f\"Team ID {team_id} zaten mevcut, eklenmedi.\")\n",
    "            else:\n",
    "                print(f\"Tournament ID {tournament_id} veya Season ID {season_id} bulunamadı.\")\n",
    "\n",
    "    def match_data(self):\n",
    "        # Fetch data from the API or existing model\n",
    "        verim = self.fetch_data()\n",
    "        if verim is None:\n",
    "            raise ValueError(\"Veri işlenmedi. Lütfen önce 'process_data()' metodunu çalıştırın.\")\n",
    "        \n",
    "     \n",
    "     \n",
    "        new_cols = ['id', 'startTimestamp', 'slug', 'tournament_uniqueTournament_id', 'season_id',\n",
    "                    'roundInfo_round', 'status_type', 'homeTeam_id', 'awayTeam_id',\n",
    "                    'homeScore_current', 'homeScore_period1', 'homeScore_period2', 'homeScore_normaltime',\n",
    "                    'awayScore_current', 'awayScore_period1', 'awayScore_period2', 'awayScore_normaltime']\n",
    "        \n",
    "        df1 = verim[new_cols] \n",
    "        df1['date'] = pd.to_datetime(df1['startTimestamp'], unit='s') + timedelta(hours=3)\n",
    "        df2 = df1.drop(\"startTimestamp\", axis=1)\n",
    "        df3 = df2.fillna(0)\n",
    "        for _, row in df3.iterrows():\n",
    "            match_id = row['id']\n",
    "            tournament_id = row['tournament_uniqueTournament_id']\n",
    "            season_id = row['season_id']\n",
    "            home_team_id = row['homeTeam_id']\n",
    "            away_team_id = row['awayTeam_id']\n",
    "            \n",
    "            # Geçersiz veya eksik id'leri atla\n",
    "            if pd.isna(match_id) or pd.isna(tournament_id) or pd.isna(season_id) or pd.isna(home_team_id) or pd.isna(away_team_id):\n",
    "                print(f\"Geçersiz değer: Match ID={match_id}, Tournament ID={tournament_id}, Season ID={season_id}, Home Team ID={home_team_id}, Away Team ID={away_team_id}. Atlanıyor.\")\n",
    "                continue\n",
    "\n",
    "            # İlgili foreign key nesnelerini getir\n",
    "            tournament_instance = Tournament.objects.filter(tournament_id=tournament_id).first()\n",
    "            season_instance = Season.objects.filter(season_id=season_id).first()\n",
    "            home_team_instance = Team.objects.filter(team_id=home_team_id).first()\n",
    "            away_team_instance = Team.objects.filter(team_id=away_team_id).first()\n",
    "\n",
    "            if tournament_instance and season_instance and home_team_instance and away_team_instance:\n",
    "                # Match'in veritabanında olup olmadığını kontrol et, yoksa oluştur\n",
    "                if not Match.objects.filter(id=match_id).exists():\n",
    "                    Match.objects.create(\n",
    "                        id=match_id,\n",
    "                        startTimestamp=row['date'],  # DateTimeField olarak datetime verisi\n",
    "                        slug=row['slug'],\n",
    "                        tournament=tournament_instance,\n",
    "                        season=season_instance,\n",
    "                        homeTeam=home_team_instance,\n",
    "                        awayTeam=away_team_instance,\n",
    "                        roundInfo_round=row['roundInfo_round'],\n",
    "                        homeScore_current=row['homeScore_current'],\n",
    "                        homeScore_period1=row['homeScore_period1'],\n",
    "                        homeScore_period2=row['homeScore_period2'],\n",
    "                        homeScore_normaltime=row['homeScore_normaltime'],\n",
    "                        awayScore_current=row['awayScore_current'],\n",
    "                        awayScore_period1=row['awayScore_period1'],\n",
    "                        awayScore_period2=row['awayScore_period2'],\n",
    "                        awayScore_normaltime=row['awayScore_normaltime'],\n",
    "                        status_type = row['status_type']\n",
    "                    )\n",
    "                    print(f\"Match ID {match_id} başarıyla eklendi.\")\n",
    "                else:\n",
    "                    print(f\"Match ID {match_id} zaten mevcut, eklenmedi.\")\n",
    "            else:\n",
    "                print(f\"Tournament ID {tournament_id}, Season ID {season_id}, Home Team ID {home_team_id}, Away Team ID {away_team_id} bulunamadı.\")\n",
    "\n",
    "\n",
    "\n",
    "\n",
    "\n",
    "# SofascoreAPI sınıfını kullanarak team_data'yı veritabanına kaydetmek için:\n",
    "api = SofascoreAPI()\n",
    "teamdata = api.fetch_data()  # Veriyi getirin (API'den ya da dosyadan)\n",
    "#api.tournament_data()\n",
    "#api.season_data()\n",
    "#api.team_data()\n",
    "api.match_data()\n",
    "print(\"İşlemler bitti\")\n"
   ]
  },
  {
   "cell_type": "code",
   "execution_count": 8,
   "id": "aa070a6b-6484-42ba-ad17-30a189ee58e9",
   "metadata": {},
   "outputs": [
    {
     "data": {
      "text/html": [
       "<div>\n",
       "<style scoped>\n",
       "    .dataframe tbody tr th:only-of-type {\n",
       "        vertical-align: middle;\n",
       "    }\n",
       "\n",
       "    .dataframe tbody tr th {\n",
       "        vertical-align: top;\n",
       "    }\n",
       "\n",
       "    .dataframe thead th {\n",
       "        text-align: right;\n",
       "    }\n",
       "</style>\n",
       "<table border=\"1\" class=\"dataframe\">\n",
       "  <thead>\n",
       "    <tr style=\"text-align: right;\">\n",
       "      <th></th>\n",
       "      <th>season_id</th>\n",
       "      <th>season_name</th>\n",
       "      <th>season_year</th>\n",
       "      <th>tournament_id</th>\n",
       "    </tr>\n",
       "  </thead>\n",
       "  <tbody>\n",
       "    <tr>\n",
       "      <th>0</th>\n",
       "      <td>57284</td>\n",
       "      <td>Allsvenskan 2024</td>\n",
       "      <td>2024</td>\n",
       "      <td>40</td>\n",
       "    </tr>\n",
       "    <tr>\n",
       "      <th>1</th>\n",
       "      <td>57318</td>\n",
       "      <td>USL League One 2024</td>\n",
       "      <td>2024</td>\n",
       "      <td>13362</td>\n",
       "    </tr>\n",
       "    <tr>\n",
       "      <th>2</th>\n",
       "      <td>57322</td>\n",
       "      <td>Eliteserien 2024</td>\n",
       "      <td>2024</td>\n",
       "      <td>20</td>\n",
       "    </tr>\n",
       "    <tr>\n",
       "      <th>3</th>\n",
       "      <td>57356</td>\n",
       "      <td>1st Division 2024</td>\n",
       "      <td>2024</td>\n",
       "      <td>22</td>\n",
       "    </tr>\n",
       "    <tr>\n",
       "      <th>4</th>\n",
       "      <td>57359</td>\n",
       "      <td>Toppserien, Women 2024</td>\n",
       "      <td>2024</td>\n",
       "      <td>201</td>\n",
       "    </tr>\n",
       "    <tr>\n",
       "      <th>...</th>\n",
       "      <td>...</td>\n",
       "      <td>...</td>\n",
       "      <td>...</td>\n",
       "      <td>...</td>\n",
       "    </tr>\n",
       "    <tr>\n",
       "      <th>99</th>\n",
       "      <td>65687</td>\n",
       "      <td>Primera Division Women 24/25</td>\n",
       "      <td>24/25</td>\n",
       "      <td>1127</td>\n",
       "    </tr>\n",
       "    <tr>\n",
       "      <th>100</th>\n",
       "      <td>65961</td>\n",
       "      <td>Indian Super League 24/25</td>\n",
       "      <td>24/25</td>\n",
       "      <td>1900</td>\n",
       "    </tr>\n",
       "    <tr>\n",
       "      <th>101</th>\n",
       "      <td>66456</td>\n",
       "      <td>UEFA Youth League 24/25</td>\n",
       "      <td>24/25</td>\n",
       "      <td>2132</td>\n",
       "    </tr>\n",
       "    <tr>\n",
       "      <th>102</th>\n",
       "      <td>66662</td>\n",
       "      <td>Super League 2 24/25</td>\n",
       "      <td>24/25</td>\n",
       "      <td>186</td>\n",
       "    </tr>\n",
       "    <tr>\n",
       "      <th>103</th>\n",
       "      <td>67785</td>\n",
       "      <td>Supercup 2024</td>\n",
       "      <td>2024</td>\n",
       "      <td>14688</td>\n",
       "    </tr>\n",
       "  </tbody>\n",
       "</table>\n",
       "<p>104 rows × 4 columns</p>\n",
       "</div>"
      ],
      "text/plain": [
       "     season_id                   season_name season_year  tournament_id\n",
       "0        57284              Allsvenskan 2024        2024             40\n",
       "1        57318           USL League One 2024        2024          13362\n",
       "2        57322              Eliteserien 2024        2024             20\n",
       "3        57356             1st Division 2024        2024             22\n",
       "4        57359        Toppserien, Women 2024        2024            201\n",
       "..         ...                           ...         ...            ...\n",
       "99       65687  Primera Division Women 24/25       24/25           1127\n",
       "100      65961     Indian Super League 24/25       24/25           1900\n",
       "101      66456       UEFA Youth League 24/25       24/25           2132\n",
       "102      66662          Super League 2 24/25       24/25            186\n",
       "103      67785                 Supercup 2024        2024          14688\n",
       "\n",
       "[104 rows x 4 columns]"
      ]
     },
     "execution_count": 8,
     "metadata": {},
     "output_type": "execute_result"
    }
   ],
   "source": [
    "Seasonx = Season.objects.all().values()\n",
    "Seasonx = list(Seasonx)\n",
    "Seasonx = pd.DataFrame(Seasonx)\n",
    "Seasonx"
   ]
  },
  {
   "cell_type": "code",
   "execution_count": 9,
   "id": "4fa8dd54-39ad-4f8e-b2ff-7185d6cc7161",
   "metadata": {},
   "outputs": [
    {
     "data": {
      "text/html": [
       "<div>\n",
       "<style scoped>\n",
       "    .dataframe tbody tr th:only-of-type {\n",
       "        vertical-align: middle;\n",
       "    }\n",
       "\n",
       "    .dataframe tbody tr th {\n",
       "        vertical-align: top;\n",
       "    }\n",
       "\n",
       "    .dataframe thead th {\n",
       "        text-align: right;\n",
       "    }\n",
       "</style>\n",
       "<table border=\"1\" class=\"dataframe\">\n",
       "  <thead>\n",
       "    <tr style=\"text-align: right;\">\n",
       "      <th></th>\n",
       "      <th>team_id</th>\n",
       "      <th>team_name</th>\n",
       "      <th>team_slug</th>\n",
       "      <th>team_shortName</th>\n",
       "      <th>team_nameCode</th>\n",
       "      <th>team_national</th>\n",
       "      <th>tournament_id</th>\n",
       "      <th>season_id</th>\n",
       "    </tr>\n",
       "  </thead>\n",
       "  <tbody>\n",
       "    <tr>\n",
       "      <th>0</th>\n",
       "      <td>3</td>\n",
       "      <td>Wolverhampton</td>\n",
       "      <td>wolverhampton</td>\n",
       "      <td>Wolves</td>\n",
       "      <td>WOL</td>\n",
       "      <td>False</td>\n",
       "      <td>17</td>\n",
       "      <td>61627</td>\n",
       "    </tr>\n",
       "    <tr>\n",
       "      <th>1</th>\n",
       "      <td>7</td>\n",
       "      <td>Crystal Palace</td>\n",
       "      <td>crystal-palace</td>\n",
       "      <td>Crystal Palace</td>\n",
       "      <td>CRY</td>\n",
       "      <td>False</td>\n",
       "      <td>17</td>\n",
       "      <td>61627</td>\n",
       "    </tr>\n",
       "    <tr>\n",
       "      <th>2</th>\n",
       "      <td>14</td>\n",
       "      <td>Nottingham Forest</td>\n",
       "      <td>nottingham-forest</td>\n",
       "      <td>Forest</td>\n",
       "      <td>NFO</td>\n",
       "      <td>False</td>\n",
       "      <td>17</td>\n",
       "      <td>61627</td>\n",
       "    </tr>\n",
       "    <tr>\n",
       "      <th>3</th>\n",
       "      <td>17</td>\n",
       "      <td>Manchester City</td>\n",
       "      <td>manchester-city</td>\n",
       "      <td>Man City</td>\n",
       "      <td>MCI</td>\n",
       "      <td>False</td>\n",
       "      <td>17</td>\n",
       "      <td>61627</td>\n",
       "    </tr>\n",
       "    <tr>\n",
       "      <th>4</th>\n",
       "      <td>38</td>\n",
       "      <td>Chelsea</td>\n",
       "      <td>chelsea</td>\n",
       "      <td>Chelsea</td>\n",
       "      <td>CHE</td>\n",
       "      <td>False</td>\n",
       "      <td>17</td>\n",
       "      <td>61627</td>\n",
       "    </tr>\n",
       "    <tr>\n",
       "      <th>...</th>\n",
       "      <td>...</td>\n",
       "      <td>...</td>\n",
       "      <td>...</td>\n",
       "      <td>...</td>\n",
       "      <td>...</td>\n",
       "      <td>...</td>\n",
       "      <td>...</td>\n",
       "      <td>...</td>\n",
       "    </tr>\n",
       "    <tr>\n",
       "      <th>654</th>\n",
       "      <td>826802</td>\n",
       "      <td>Fiorentina U20</td>\n",
       "      <td>acf-fiorentina-u20-u20</td>\n",
       "      <td>Fiorentina U20</td>\n",
       "      <td>ACF</td>\n",
       "      <td>False</td>\n",
       "      <td>2292</td>\n",
       "      <td>64432</td>\n",
       "    </tr>\n",
       "    <tr>\n",
       "      <th>655</th>\n",
       "      <td>826810</td>\n",
       "      <td>Udinese U20</td>\n",
       "      <td>udinese-calcio-u20-u20</td>\n",
       "      <td>Udinese U20</td>\n",
       "      <td>UDI</td>\n",
       "      <td>False</td>\n",
       "      <td>2292</td>\n",
       "      <td>64432</td>\n",
       "    </tr>\n",
       "    <tr>\n",
       "      <th>656</th>\n",
       "      <td>826812</td>\n",
       "      <td>Genoa U20</td>\n",
       "      <td>genoa-cfc-u20-u20</td>\n",
       "      <td>Genoa U20</td>\n",
       "      <td>GEN</td>\n",
       "      <td>False</td>\n",
       "      <td>2292</td>\n",
       "      <td>64432</td>\n",
       "    </tr>\n",
       "    <tr>\n",
       "      <th>657</th>\n",
       "      <td>826817</td>\n",
       "      <td>Sampdoria U20</td>\n",
       "      <td>sampdoria-genoa-u20-u20</td>\n",
       "      <td>Sampdoria U20</td>\n",
       "      <td>SAM</td>\n",
       "      <td>False</td>\n",
       "      <td>2292</td>\n",
       "      <td>64432</td>\n",
       "    </tr>\n",
       "    <tr>\n",
       "      <th>658</th>\n",
       "      <td>894568</td>\n",
       "      <td>Asteras B Aktor</td>\n",
       "      <td>asteras-tripolis-b</td>\n",
       "      <td>Asteras B Aktor</td>\n",
       "      <td>AST</td>\n",
       "      <td>False</td>\n",
       "      <td>186</td>\n",
       "      <td>66662</td>\n",
       "    </tr>\n",
       "  </tbody>\n",
       "</table>\n",
       "<p>659 rows × 8 columns</p>\n",
       "</div>"
      ],
      "text/plain": [
       "     team_id          team_name                team_slug   team_shortName  \\\n",
       "0          3      Wolverhampton            wolverhampton           Wolves   \n",
       "1          7     Crystal Palace           crystal-palace   Crystal Palace   \n",
       "2         14  Nottingham Forest        nottingham-forest           Forest   \n",
       "3         17    Manchester City          manchester-city         Man City   \n",
       "4         38            Chelsea                  chelsea          Chelsea   \n",
       "..       ...                ...                      ...              ...   \n",
       "654   826802     Fiorentina U20   acf-fiorentina-u20-u20   Fiorentina U20   \n",
       "655   826810        Udinese U20   udinese-calcio-u20-u20     Udinese U20    \n",
       "656   826812          Genoa U20        genoa-cfc-u20-u20       Genoa U20    \n",
       "657   826817      Sampdoria U20  sampdoria-genoa-u20-u20   Sampdoria U20    \n",
       "658   894568    Asteras B Aktor       asteras-tripolis-b  Asteras B Aktor   \n",
       "\n",
       "    team_nameCode  team_national  tournament_id  season_id  \n",
       "0             WOL          False             17      61627  \n",
       "1             CRY          False             17      61627  \n",
       "2             NFO          False             17      61627  \n",
       "3             MCI          False             17      61627  \n",
       "4             CHE          False             17      61627  \n",
       "..            ...            ...            ...        ...  \n",
       "654           ACF          False           2292      64432  \n",
       "655           UDI          False           2292      64432  \n",
       "656           GEN          False           2292      64432  \n",
       "657           SAM          False           2292      64432  \n",
       "658           AST          False            186      66662  \n",
       "\n",
       "[659 rows x 8 columns]"
      ]
     },
     "execution_count": 9,
     "metadata": {},
     "output_type": "execute_result"
    }
   ],
   "source": [
    "Teamdata = Team.objects.all().values()\n",
    "Teamdata = list(Teamdata)\n",
    "Teamdata= pd.DataFrame(Teamdata)\n",
    "Teamdata"
   ]
  },
  {
   "cell_type": "code",
   "execution_count": 15,
   "id": "fc74edf7-24f1-4872-8c65-241b7c9ca04f",
   "metadata": {},
   "outputs": [
    {
     "data": {
      "text/html": [
       "<div>\n",
       "<style scoped>\n",
       "    .dataframe tbody tr th:only-of-type {\n",
       "        vertical-align: middle;\n",
       "    }\n",
       "\n",
       "    .dataframe tbody tr th {\n",
       "        vertical-align: top;\n",
       "    }\n",
       "\n",
       "    .dataframe thead th {\n",
       "        text-align: right;\n",
       "    }\n",
       "</style>\n",
       "<table border=\"1\" class=\"dataframe\">\n",
       "  <thead>\n",
       "    <tr style=\"text-align: right;\">\n",
       "      <th></th>\n",
       "      <th>team_id</th>\n",
       "      <th>team_name</th>\n",
       "      <th>team_slug</th>\n",
       "      <th>team_shortName</th>\n",
       "      <th>team_nameCode</th>\n",
       "      <th>team_national</th>\n",
       "      <th>tournament_id</th>\n",
       "      <th>season_id</th>\n",
       "    </tr>\n",
       "  </thead>\n",
       "  <tbody>\n",
       "    <tr>\n",
       "      <th>200</th>\n",
       "      <td>3052</td>\n",
       "      <td>Fenerbahçe</td>\n",
       "      <td>fenerbahce</td>\n",
       "      <td>Fenerbahçe</td>\n",
       "      <td>FEN</td>\n",
       "      <td>False</td>\n",
       "      <td>52</td>\n",
       "      <td>63814</td>\n",
       "    </tr>\n",
       "  </tbody>\n",
       "</table>\n",
       "</div>"
      ],
      "text/plain": [
       "     team_id   team_name   team_slug team_shortName team_nameCode  \\\n",
       "200     3052  Fenerbahçe  fenerbahce     Fenerbahçe           FEN   \n",
       "\n",
       "     team_national  tournament_id  season_id  \n",
       "200          False             52      63814  "
      ]
     },
     "execution_count": 15,
     "metadata": {},
     "output_type": "execute_result"
    }
   ],
   "source": [
    "takım = Teamdata[Teamdata[\"team_id\"]==3052]\n",
    "takım"
   ]
  },
  {
   "cell_type": "code",
   "execution_count": 17,
   "id": "b98f0a41-a87d-4e4d-8189-68ab3a782ba1",
   "metadata": {},
   "outputs": [
    {
     "data": {
      "text/html": [
       "<div>\n",
       "<style scoped>\n",
       "    .dataframe tbody tr th:only-of-type {\n",
       "        vertical-align: middle;\n",
       "    }\n",
       "\n",
       "    .dataframe tbody tr th {\n",
       "        vertical-align: top;\n",
       "    }\n",
       "\n",
       "    .dataframe thead th {\n",
       "        text-align: right;\n",
       "    }\n",
       "</style>\n",
       "<table border=\"1\" class=\"dataframe\">\n",
       "  <thead>\n",
       "    <tr style=\"text-align: right;\">\n",
       "      <th></th>\n",
       "      <th>tournament_id</th>\n",
       "      <th>tournament_name</th>\n",
       "      <th>tournament_slug</th>\n",
       "      <th>tournament_category_name</th>\n",
       "      <th>tournament_category_slug</th>\n",
       "      <th>tournament_uniqueTournament_category_id</th>\n",
       "      <th>tournament_uniqueTournament_hasEventPlayerStatistics</th>\n",
       "      <th>tournament_model_id</th>\n",
       "      <th>tournament_isGroup</th>\n",
       "      <th>tournament_uniqueTournament_hasPerformanceGraphFeature</th>\n",
       "    </tr>\n",
       "  </thead>\n",
       "  <tbody>\n",
       "    <tr>\n",
       "      <th>0</th>\n",
       "      <td>8</td>\n",
       "      <td>LaLiga</td>\n",
       "      <td>laliga</td>\n",
       "      <td>Spain</td>\n",
       "      <td>spain</td>\n",
       "      <td>32</td>\n",
       "      <td>False</td>\n",
       "      <td>36</td>\n",
       "      <td>False</td>\n",
       "      <td>False</td>\n",
       "    </tr>\n",
       "    <tr>\n",
       "      <th>1</th>\n",
       "      <td>9</td>\n",
       "      <td>Challenger Pro League</td>\n",
       "      <td>challenger-pro-league</td>\n",
       "      <td>Belgium</td>\n",
       "      <td>belgium</td>\n",
       "      <td>33</td>\n",
       "      <td>False</td>\n",
       "      <td>692</td>\n",
       "      <td>False</td>\n",
       "      <td>False</td>\n",
       "    </tr>\n",
       "    <tr>\n",
       "      <th>2</th>\n",
       "      <td>17</td>\n",
       "      <td>Premier League</td>\n",
       "      <td>premier-league</td>\n",
       "      <td>England</td>\n",
       "      <td>england</td>\n",
       "      <td>1</td>\n",
       "      <td>False</td>\n",
       "      <td>1</td>\n",
       "      <td>False</td>\n",
       "      <td>False</td>\n",
       "    </tr>\n",
       "    <tr>\n",
       "      <th>3</th>\n",
       "      <td>18</td>\n",
       "      <td>Championship</td>\n",
       "      <td>championship</td>\n",
       "      <td>England</td>\n",
       "      <td>england</td>\n",
       "      <td>1</td>\n",
       "      <td>False</td>\n",
       "      <td>2</td>\n",
       "      <td>False</td>\n",
       "      <td>False</td>\n",
       "    </tr>\n",
       "    <tr>\n",
       "      <th>4</th>\n",
       "      <td>20</td>\n",
       "      <td>Eliteserien</td>\n",
       "      <td>eliteserien</td>\n",
       "      <td>Norway</td>\n",
       "      <td>norway</td>\n",
       "      <td>5</td>\n",
       "      <td>False</td>\n",
       "      <td>5</td>\n",
       "      <td>False</td>\n",
       "      <td>False</td>\n",
       "    </tr>\n",
       "    <tr>\n",
       "      <th>...</th>\n",
       "      <td>...</td>\n",
       "      <td>...</td>\n",
       "      <td>...</td>\n",
       "      <td>...</td>\n",
       "      <td>...</td>\n",
       "      <td>...</td>\n",
       "      <td>...</td>\n",
       "      <td>...</td>\n",
       "      <td>...</td>\n",
       "      <td>...</td>\n",
       "    </tr>\n",
       "    <tr>\n",
       "      <th>99</th>\n",
       "      <td>11621</td>\n",
       "      <td>Liga MX, Apertura</td>\n",
       "      <td>liga-mx-apertura</td>\n",
       "      <td>Mexico</td>\n",
       "      <td>mexico</td>\n",
       "      <td>12</td>\n",
       "      <td>False</td>\n",
       "      <td>28</td>\n",
       "      <td>False</td>\n",
       "      <td>False</td>\n",
       "    </tr>\n",
       "    <tr>\n",
       "      <th>100</th>\n",
       "      <td>11653</td>\n",
       "      <td>Primera División</td>\n",
       "      <td>primera-division</td>\n",
       "      <td>Chile</td>\n",
       "      <td>chile</td>\n",
       "      <td>49</td>\n",
       "      <td>False</td>\n",
       "      <td>64475</td>\n",
       "      <td>False</td>\n",
       "      <td>False</td>\n",
       "    </tr>\n",
       "    <tr>\n",
       "      <th>101</th>\n",
       "      <td>13362</td>\n",
       "      <td>USL, League One</td>\n",
       "      <td>usl-league-one</td>\n",
       "      <td>USA</td>\n",
       "      <td>usa</td>\n",
       "      <td>26</td>\n",
       "      <td>False</td>\n",
       "      <td>71366</td>\n",
       "      <td>False</td>\n",
       "      <td>False</td>\n",
       "    </tr>\n",
       "    <tr>\n",
       "      <th>102</th>\n",
       "      <td>14688</td>\n",
       "      <td>Super Cup</td>\n",
       "      <td>super-cup</td>\n",
       "      <td>Egypt</td>\n",
       "      <td>egypt</td>\n",
       "      <td>305</td>\n",
       "      <td>False</td>\n",
       "      <td>22348</td>\n",
       "      <td>False</td>\n",
       "      <td>False</td>\n",
       "    </tr>\n",
       "    <tr>\n",
       "      <th>103</th>\n",
       "      <td>16736</td>\n",
       "      <td>Division Profesional, Clausura</td>\n",
       "      <td>division-profesional-clausura</td>\n",
       "      <td>Bolivia</td>\n",
       "      <td>bolivia</td>\n",
       "      <td>379</td>\n",
       "      <td>False</td>\n",
       "      <td>130078</td>\n",
       "      <td>False</td>\n",
       "      <td>False</td>\n",
       "    </tr>\n",
       "  </tbody>\n",
       "</table>\n",
       "<p>104 rows × 10 columns</p>\n",
       "</div>"
      ],
      "text/plain": [
       "     tournament_id                 tournament_name  \\\n",
       "0                8                          LaLiga   \n",
       "1                9           Challenger Pro League   \n",
       "2               17                  Premier League   \n",
       "3               18                    Championship   \n",
       "4               20                     Eliteserien   \n",
       "..             ...                             ...   \n",
       "99           11621               Liga MX, Apertura   \n",
       "100          11653                Primera División   \n",
       "101          13362                 USL, League One   \n",
       "102          14688                       Super Cup   \n",
       "103          16736  Division Profesional, Clausura   \n",
       "\n",
       "                   tournament_slug tournament_category_name  \\\n",
       "0                           laliga                    Spain   \n",
       "1            challenger-pro-league                  Belgium   \n",
       "2                   premier-league                  England   \n",
       "3                     championship                  England   \n",
       "4                      eliteserien                   Norway   \n",
       "..                             ...                      ...   \n",
       "99                liga-mx-apertura                   Mexico   \n",
       "100               primera-division                    Chile   \n",
       "101                 usl-league-one                      USA   \n",
       "102                      super-cup                    Egypt   \n",
       "103  division-profesional-clausura                  Bolivia   \n",
       "\n",
       "    tournament_category_slug  tournament_uniqueTournament_category_id  \\\n",
       "0                      spain                                       32   \n",
       "1                    belgium                                       33   \n",
       "2                    england                                        1   \n",
       "3                    england                                        1   \n",
       "4                     norway                                        5   \n",
       "..                       ...                                      ...   \n",
       "99                    mexico                                       12   \n",
       "100                    chile                                       49   \n",
       "101                      usa                                       26   \n",
       "102                    egypt                                      305   \n",
       "103                  bolivia                                      379   \n",
       "\n",
       "     tournament_uniqueTournament_hasEventPlayerStatistics  \\\n",
       "0                                                False      \n",
       "1                                                False      \n",
       "2                                                False      \n",
       "3                                                False      \n",
       "4                                                False      \n",
       "..                                                 ...      \n",
       "99                                               False      \n",
       "100                                              False      \n",
       "101                                              False      \n",
       "102                                              False      \n",
       "103                                              False      \n",
       "\n",
       "     tournament_model_id  tournament_isGroup  \\\n",
       "0                     36               False   \n",
       "1                    692               False   \n",
       "2                      1               False   \n",
       "3                      2               False   \n",
       "4                      5               False   \n",
       "..                   ...                 ...   \n",
       "99                    28               False   \n",
       "100                64475               False   \n",
       "101                71366               False   \n",
       "102                22348               False   \n",
       "103               130078               False   \n",
       "\n",
       "     tournament_uniqueTournament_hasPerformanceGraphFeature  \n",
       "0                                                False       \n",
       "1                                                False       \n",
       "2                                                False       \n",
       "3                                                False       \n",
       "4                                                False       \n",
       "..                                                 ...       \n",
       "99                                               False       \n",
       "100                                              False       \n",
       "101                                              False       \n",
       "102                                              False       \n",
       "103                                              False       \n",
       "\n",
       "[104 rows x 10 columns]"
      ]
     },
     "execution_count": 17,
     "metadata": {},
     "output_type": "execute_result"
    }
   ],
   "source": [
    "from basemodels.models import Tournament, Season, Team\n",
    "Tournamentx = Tournament.objects.all().values()\n",
    "Tournamentx = list(Tournamentx)\n",
    "Tournamentx= pd.DataFrame(Tournamentx)\n",
    "Tournamentx"
   ]
  },
  {
   "cell_type": "code",
   "execution_count": 13,
   "id": "11defaa1-a7ca-4949-8c34-9a67fc016946",
   "metadata": {},
   "outputs": [
    {
     "data": {
      "text/html": [
       "<div>\n",
       "<style scoped>\n",
       "    .dataframe tbody tr th:only-of-type {\n",
       "        vertical-align: middle;\n",
       "    }\n",
       "\n",
       "    .dataframe tbody tr th {\n",
       "        vertical-align: top;\n",
       "    }\n",
       "\n",
       "    .dataframe thead th {\n",
       "        text-align: right;\n",
       "    }\n",
       "</style>\n",
       "<table border=\"1\" class=\"dataframe\">\n",
       "  <thead>\n",
       "    <tr style=\"text-align: right;\">\n",
       "      <th></th>\n",
       "      <th>team_id</th>\n",
       "      <th>team_name</th>\n",
       "      <th>team_slug</th>\n",
       "      <th>team_shortName</th>\n",
       "      <th>team_nameCode</th>\n",
       "      <th>team_national</th>\n",
       "      <th>tournament_id_x</th>\n",
       "      <th>season_id</th>\n",
       "      <th>season_name</th>\n",
       "      <th>season_year</th>\n",
       "      <th>tournament_id_y</th>\n",
       "    </tr>\n",
       "  </thead>\n",
       "  <tbody>\n",
       "    <tr>\n",
       "      <th>0</th>\n",
       "      <td>3</td>\n",
       "      <td>Wolverhampton</td>\n",
       "      <td>wolverhampton</td>\n",
       "      <td>Wolves</td>\n",
       "      <td>WOL</td>\n",
       "      <td>False</td>\n",
       "      <td>17</td>\n",
       "      <td>61627</td>\n",
       "      <td>Premier League 24/25</td>\n",
       "      <td>24/25</td>\n",
       "      <td>17</td>\n",
       "    </tr>\n",
       "    <tr>\n",
       "      <th>1</th>\n",
       "      <td>7</td>\n",
       "      <td>Crystal Palace</td>\n",
       "      <td>crystal-palace</td>\n",
       "      <td>Crystal Palace</td>\n",
       "      <td>CRY</td>\n",
       "      <td>False</td>\n",
       "      <td>17</td>\n",
       "      <td>61627</td>\n",
       "      <td>Premier League 24/25</td>\n",
       "      <td>24/25</td>\n",
       "      <td>17</td>\n",
       "    </tr>\n",
       "    <tr>\n",
       "      <th>2</th>\n",
       "      <td>14</td>\n",
       "      <td>Nottingham Forest</td>\n",
       "      <td>nottingham-forest</td>\n",
       "      <td>Forest</td>\n",
       "      <td>NFO</td>\n",
       "      <td>False</td>\n",
       "      <td>17</td>\n",
       "      <td>61627</td>\n",
       "      <td>Premier League 24/25</td>\n",
       "      <td>24/25</td>\n",
       "      <td>17</td>\n",
       "    </tr>\n",
       "    <tr>\n",
       "      <th>3</th>\n",
       "      <td>17</td>\n",
       "      <td>Manchester City</td>\n",
       "      <td>manchester-city</td>\n",
       "      <td>Man City</td>\n",
       "      <td>MCI</td>\n",
       "      <td>False</td>\n",
       "      <td>17</td>\n",
       "      <td>61627</td>\n",
       "      <td>Premier League 24/25</td>\n",
       "      <td>24/25</td>\n",
       "      <td>17</td>\n",
       "    </tr>\n",
       "    <tr>\n",
       "      <th>4</th>\n",
       "      <td>38</td>\n",
       "      <td>Chelsea</td>\n",
       "      <td>chelsea</td>\n",
       "      <td>Chelsea</td>\n",
       "      <td>CHE</td>\n",
       "      <td>False</td>\n",
       "      <td>17</td>\n",
       "      <td>61627</td>\n",
       "      <td>Premier League 24/25</td>\n",
       "      <td>24/25</td>\n",
       "      <td>17</td>\n",
       "    </tr>\n",
       "    <tr>\n",
       "      <th>...</th>\n",
       "      <td>...</td>\n",
       "      <td>...</td>\n",
       "      <td>...</td>\n",
       "      <td>...</td>\n",
       "      <td>...</td>\n",
       "      <td>...</td>\n",
       "      <td>...</td>\n",
       "      <td>...</td>\n",
       "      <td>...</td>\n",
       "      <td>...</td>\n",
       "      <td>...</td>\n",
       "    </tr>\n",
       "    <tr>\n",
       "      <th>654</th>\n",
       "      <td>405294</td>\n",
       "      <td>Central Valley Fuego</td>\n",
       "      <td>central-valley-fuego</td>\n",
       "      <td>CV Fuego</td>\n",
       "      <td>FUE</td>\n",
       "      <td>False</td>\n",
       "      <td>13362</td>\n",
       "      <td>57318</td>\n",
       "      <td>USL League One 2024</td>\n",
       "      <td>2024</td>\n",
       "      <td>13362</td>\n",
       "    </tr>\n",
       "    <tr>\n",
       "      <th>655</th>\n",
       "      <td>826802</td>\n",
       "      <td>Fiorentina U20</td>\n",
       "      <td>acf-fiorentina-u20-u20</td>\n",
       "      <td>Fiorentina U20</td>\n",
       "      <td>ACF</td>\n",
       "      <td>False</td>\n",
       "      <td>2292</td>\n",
       "      <td>64432</td>\n",
       "      <td>Primavera 1 24/25</td>\n",
       "      <td>24/25</td>\n",
       "      <td>2292</td>\n",
       "    </tr>\n",
       "    <tr>\n",
       "      <th>656</th>\n",
       "      <td>826810</td>\n",
       "      <td>Udinese U20</td>\n",
       "      <td>udinese-calcio-u20-u20</td>\n",
       "      <td>Udinese U20</td>\n",
       "      <td>UDI</td>\n",
       "      <td>False</td>\n",
       "      <td>2292</td>\n",
       "      <td>64432</td>\n",
       "      <td>Primavera 1 24/25</td>\n",
       "      <td>24/25</td>\n",
       "      <td>2292</td>\n",
       "    </tr>\n",
       "    <tr>\n",
       "      <th>657</th>\n",
       "      <td>826812</td>\n",
       "      <td>Genoa U20</td>\n",
       "      <td>genoa-cfc-u20-u20</td>\n",
       "      <td>Genoa U20</td>\n",
       "      <td>GEN</td>\n",
       "      <td>False</td>\n",
       "      <td>2292</td>\n",
       "      <td>64432</td>\n",
       "      <td>Primavera 1 24/25</td>\n",
       "      <td>24/25</td>\n",
       "      <td>2292</td>\n",
       "    </tr>\n",
       "    <tr>\n",
       "      <th>658</th>\n",
       "      <td>826817</td>\n",
       "      <td>Sampdoria U20</td>\n",
       "      <td>sampdoria-genoa-u20-u20</td>\n",
       "      <td>Sampdoria U20</td>\n",
       "      <td>SAM</td>\n",
       "      <td>False</td>\n",
       "      <td>2292</td>\n",
       "      <td>64432</td>\n",
       "      <td>Primavera 1 24/25</td>\n",
       "      <td>24/25</td>\n",
       "      <td>2292</td>\n",
       "    </tr>\n",
       "  </tbody>\n",
       "</table>\n",
       "<p>659 rows × 11 columns</p>\n",
       "</div>"
      ],
      "text/plain": [
       "     team_id             team_name                team_slug  team_shortName  \\\n",
       "0          3         Wolverhampton            wolverhampton          Wolves   \n",
       "1          7        Crystal Palace           crystal-palace  Crystal Palace   \n",
       "2         14     Nottingham Forest        nottingham-forest          Forest   \n",
       "3         17       Manchester City          manchester-city        Man City   \n",
       "4         38               Chelsea                  chelsea         Chelsea   \n",
       "..       ...                   ...                      ...             ...   \n",
       "654   405294  Central Valley Fuego     central-valley-fuego        CV Fuego   \n",
       "655   826802        Fiorentina U20   acf-fiorentina-u20-u20  Fiorentina U20   \n",
       "656   826810           Udinese U20   udinese-calcio-u20-u20    Udinese U20    \n",
       "657   826812             Genoa U20        genoa-cfc-u20-u20      Genoa U20    \n",
       "658   826817         Sampdoria U20  sampdoria-genoa-u20-u20  Sampdoria U20    \n",
       "\n",
       "    team_nameCode  team_national  tournament_id_x  season_id  \\\n",
       "0             WOL          False               17      61627   \n",
       "1             CRY          False               17      61627   \n",
       "2             NFO          False               17      61627   \n",
       "3             MCI          False               17      61627   \n",
       "4             CHE          False               17      61627   \n",
       "..            ...            ...              ...        ...   \n",
       "654           FUE          False            13362      57318   \n",
       "655           ACF          False             2292      64432   \n",
       "656           UDI          False             2292      64432   \n",
       "657           GEN          False             2292      64432   \n",
       "658           SAM          False             2292      64432   \n",
       "\n",
       "              season_name season_year  tournament_id_y  \n",
       "0    Premier League 24/25       24/25               17  \n",
       "1    Premier League 24/25       24/25               17  \n",
       "2    Premier League 24/25       24/25               17  \n",
       "3    Premier League 24/25       24/25               17  \n",
       "4    Premier League 24/25       24/25               17  \n",
       "..                    ...         ...              ...  \n",
       "654   USL League One 2024        2024            13362  \n",
       "655     Primavera 1 24/25       24/25             2292  \n",
       "656     Primavera 1 24/25       24/25             2292  \n",
       "657     Primavera 1 24/25       24/25             2292  \n",
       "658     Primavera 1 24/25       24/25             2292  \n",
       "\n",
       "[659 rows x 11 columns]"
      ]
     },
     "execution_count": 13,
     "metadata": {},
     "output_type": "execute_result"
    }
   ],
   "source": [
    "result = pd.merge(Teamdata,Seasonx , on=\"season_id\")\n",
    "result"
   ]
  },
  {
   "cell_type": "code",
   "execution_count": null,
   "id": "70ff658b-f3f9-4f62-85fb-19cebf849640",
   "metadata": {},
   "outputs": [],
   "source": []
  }
 ],
 "metadata": {
  "kernelspec": {
   "display_name": "Python 3 (ipykernel)",
   "language": "python",
   "name": "python3"
  },
  "language_info": {
   "codemirror_mode": {
    "name": "ipython",
    "version": 3
   },
   "file_extension": ".py",
   "mimetype": "text/x-python",
   "name": "python",
   "nbconvert_exporter": "python",
   "pygments_lexer": "ipython3",
   "version": "3.12.3"
  }
 },
 "nbformat": 4,
 "nbformat_minor": 5
}
